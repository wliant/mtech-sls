{
 "cells": [
  {
   "cell_type": "code",
   "execution_count": 1,
   "metadata": {},
   "outputs": [
    {
     "name": "stderr",
     "output_type": "stream",
     "text": [
      "Using TensorFlow backend.\n"
     ]
    }
   ],
   "source": [
    "#gym imports\n",
    "import gym\n",
    "import gym_anytrading\n",
    "\n",
    "#keras imports\n",
    "from keras.models import model_from_json\n",
    "from keras.models import Sequential\n",
    "from keras.layers.core import Dense, Dropout, Activation, Flatten\n",
    "from keras.layers.convolutional import Conv2D, MaxPooling2D\n",
    "from keras.optimizers import SGD , Adam\n",
    "from keras.callbacks import TensorBoard\n",
    "from collections import deque\n",
    "import random\n",
    "import pickle\n",
    "\n",
    "from rl.agents.dqn import DQNAgent\n",
    "from rl.policy import BoltzmannQPolicy\n",
    "from rl.memory import SequentialMemory\n",
    "from rl.agents.dqn import DQNAgent\n",
    "from rl.agents.ddpg import DDPGAgent\n",
    "from rl.policy import BoltzmannQPolicy, EpsGreedyQPolicy,MaxBoltzmannQPolicy,LinearAnnealedPolicy\n",
    "from rl.memory import SequentialMemory\n",
    "from rl.core import Processor\n",
    "from rl.random import OrnsteinUhlenbeckProcess\n",
    "from rl.callbacks import FileLogger, ModelIntervalCheckpoint, TrainEpisodeLogger\n",
    "\n",
    "#import misc\n",
    "import numpy as np\n",
    "import pandas as pd\n",
    "import matplotlib.pyplot as plt\n",
    "import os\n",
    "\n",
    "from sklearn import preprocessing\n",
    "from evaluator import Evaluator"
   ]
  },
  {
   "cell_type": "code",
   "execution_count": 2,
   "metadata": {},
   "outputs": [],
   "source": [
    "def env_creator():\n",
    "    return gym.make('forex-v0', frame_bound=(50, 2500), window_size=10)\n",
    "    env.reset()\n",
    "    env = env_creator()\n",
    "    nb_actions = env.action_space.n\n",
    "    env.observation_space.shape"
   ]
  },
  {
   "cell_type": "code",
   "execution_count": 11,
   "metadata": {},
   "outputs": [],
   "source": [
    "def buildmodelA():\n",
    "    model = Sequential()\n",
    "    model.add(Flatten(input_shape=(1,) + (10, 2)))\n",
    "    model.add(Dropout(0.2))\n",
    "    model.add(Dense(32))\n",
    "    model.add(Activation('relu'))\n",
    "    model.add(Dropout(0.2))\n",
    "    model.add(Dense(16))\n",
    "    model.add(Activation('relu'))\n",
    "    model.add(Dense(2))\n",
    "    model.add(Activation('linear'))   \n",
    "    return model"
   ]
  },
  {
   "cell_type": "code",
   "execution_count": 12,
   "metadata": {},
   "outputs": [],
   "source": [
    "def buildmodelB():\n",
    "    model = Sequential()\n",
    "    model.add(Flatten(input_shape=(1,) + (10, 2)))\n",
    "    model.add(Dropout(0.2))\n",
    "    model.add(Dense(64))\n",
    "    model.add(Activation('relu'))\n",
    "    model.add(Dropout(0.2))\n",
    "    model.add(Dense(128))\n",
    "    model.add(Activation('relu'))\n",
    "    model.add(Dropout(0.2))\n",
    "    model.add(Dense(128))\n",
    "    model.add(Activation('relu'))\n",
    "    model.add(Dropout(0.2))\n",
    "    model.add(Dense(64))\n",
    "    model.add(Activation('relu'))\n",
    "    model.add(Dropout(0.2))\n",
    "    model.add(Dense(2))\n",
    "    model.add(Activation('linear'))   \n",
    "    return model"
   ]
  },
  {
   "cell_type": "code",
   "execution_count": 13,
   "metadata": {},
   "outputs": [],
   "source": [
    "class EnvProcessor(Processor):\n",
    "    def process_observation(self, observation):\n",
    "        assert observation.ndim == 2  # (height, width, channel)\n",
    "        return self.process_obs_1(observation)\n",
    "    \n",
    "    def process_obs_1(self, observation):\n",
    "        prices = []\n",
    "        diff = []\n",
    "        for o in observation:\n",
    "            prices.append(o[0])\n",
    "            diff.append(o[1])\n",
    "        prices = preprocessing.normalize([prices], norm='l2', axis=1, copy=True, return_norm=False)[0]\n",
    "        diff = preprocessing.normalize([diff], norm='l2', axis=1, copy=True, return_norm=False)[0]\n",
    "        new_obs = np.column_stack((prices, diff))\n",
    "        return new_obs\n",
    "    \n",
    "    def process_obs_2(self, observation):\n",
    "        prices = []\n",
    "        diff = []\n",
    "        for o in observation:\n",
    "            prices.append(o[0])\n",
    "            diff.append(o[1] / o[0] * 100)\n",
    "        prices = preprocessing.normalize([prices], norm='l2', axis=1, copy=True, return_norm=False)[0]\n",
    "        new_obs = np.column_stack((prices, diff))\n",
    "        return new_obs\n",
    "        \n",
    "    def process_state_batch(self, batch):\n",
    "#         print(batch)\n",
    "        return batch\n",
    "\n",
    "    def process_reward(self, reward):\n",
    "        return reward"
   ]
  },
  {
   "cell_type": "code",
   "execution_count": 14,
   "metadata": {},
   "outputs": [],
   "source": [
    "parameter_set=\"02\"\n",
    "PROCESSOR = EnvProcessor()\n",
    "#NN\n",
    "LEARNING_RATE = 0.01\n",
    "##Policy\n",
    "#POLICY = LinearAnnealedPolicy(EpsGreedyQPolicy(), attr='eps', value_max=1., value_min=.1, value_test=.05, nb_steps=10000)\n",
    "#POLICY =MaxBoltzmannQPolicy()\n",
    "POLICY = BoltzmannQPolicy()\n",
    "#POLICY =CustomEpsGreedyQPolicy(update_interval = 2500, eps = 1.0)\n",
    "#Memory\n",
    "MEMORY = SequentialMemory(limit=100000, window_length=1)\n",
    "# timesteps to observe before training\n",
    "OBSERVATION = 20 \n",
    "#Discount Factor\n",
    "GAMMA = 0.9 # decay rate of past observations original 0.99\n",
    "#game parameters\n",
    "TRAIN_INTERVAL = 32\n",
    "#Size of Minibatch\n",
    "BATCH_SIZE = 64 "
   ]
  },
  {
   "cell_type": "code",
   "execution_count": 15,
   "metadata": {},
   "outputs": [],
   "source": [
    "def agent_creator():\n",
    "    #Model\n",
    "    MODEL = buildmodelB()\n",
    "    agent = DQNAgent(model=MODEL, nb_actions=2, memory=MEMORY, nb_steps_warmup=OBSERVATION,\n",
    "                   target_model_update=1e-2, policy=POLICY, batch_size=BATCH_SIZE, processor=PROCESSOR, \n",
    "                   train_interval=TRAIN_INTERVAL, enable_double_dqn=True)\n",
    "    agent.compile(Adam(lr=LEARNING_RATE), metrics=['mae'])\n",
    "    return agent"
   ]
  },
  {
   "cell_type": "code",
   "execution_count": null,
   "metadata": {},
   "outputs": [
    {
     "name": "stdout",
     "output_type": "stream",
     "text": [
      "['loss', 'mean_absolute_error', 'mean_q']\n",
      "starting train 1\n",
      "------------------ new episode begin, environment reset -----------------------------\n",
      "Interval 1.0 (0 steps performed)\n",
      "  1/489 [..............................] - ETA: 36s - reward: 24.3000 - cumulative_reward: 24.3000WARNING:tensorflow:From C:\\ProgramData\\Anaconda3\\lib\\site-packages\\tensorflow\\python\\ops\\math_ops.py:3066: to_int32 (from tensorflow.python.ops.math_ops) is deprecated and will be removed in a future version.\n",
      "Instructions for updating:\n",
      "Use tf.cast instead.\n"
     ]
    },
    {
     "name": "stderr",
     "output_type": "stream",
     "text": [
      "C:\\ProgramData\\Anaconda3\\lib\\site-packages\\gym\\logger.py:30: UserWarning: \u001b[33mWARN: Box bound precision lowered by casting to float32\u001b[0m\n",
      "  warnings.warn(colorize('%s: %s'%('WARN', msg % args), 'yellow'))\n",
      "C:\\ProgramData\\Anaconda3\\lib\\site-packages\\rl\\memory.py:39: UserWarning: Not enough entries to sample without replacement. Consider increasing your warm-up phase to avoid oversampling!\n",
      "  warnings.warn('Not enough entries to sample without replacement. Consider increasing your warm-up phase to avoid oversampling!')\n"
     ]
    },
    {
     "name": "stdout",
     "output_type": "stream",
     "text": [
      "335/489 [===================>..........] - ETA: 0s - reward: -0.6296 - cumulative_reward: -170.1460"
     ]
    },
    {
     "name": "stderr",
     "output_type": "stream",
     "text": [
      "C:\\ProgramData\\Anaconda3\\lib\\site-packages\\rl\\memory.py:39: UserWarning: Not enough entries to sample without replacement. Consider increasing your warm-up phase to avoid oversampling!\n",
      "  warnings.warn('Not enough entries to sample without replacement. Consider increasing your warm-up phase to avoid oversampling!')\n"
     ]
    },
    {
     "name": "stdout",
     "output_type": "stream",
     "text": [
      "490/489 [==============================] - 1s 2ms/step - reward: -0.5927 - cumulative_reward: -211.3171\n",
      "490/489 [==============================] - 2s 3ms/step - reward: -0.2207 - cumulative_reward: -152.7599\n",
      "490/489 [==============================] - 2s 4ms/step - reward: -0.8220 - cumulative_reward: -358.2794\n",
      "490/489 [==============================] - 2s 4ms/step - reward: 5.2454 - cumulative_reward: -558.3177\n",
      "460/489 [===========================>..] - ETA: 0s - reward: -5.4645 - cumulative_reward: -570.8278\n",
      "train 1 completed. total_reward: -648.2999999999365 total_profit: 0.8397711780241123\n",
      "min reward: -170.40000000000165, max reward: 100.40000000000049, mean_reward: -0.2647202939975241\n",
      "\n",
      "['loss', 'mean_absolute_error', 'mean_q']\n",
      "starting train 2\n",
      "------------------ new episode begin, environment reset -----------------------------\n",
      "Interval 1.0 (0 steps performed)\n",
      "  1/489 [..............................] - ETA: 1:03 - reward: 24.3000 - cumulative_reward: 24.3000"
     ]
    },
    {
     "name": "stderr",
     "output_type": "stream",
     "text": [
      "C:\\ProgramData\\Anaconda3\\lib\\site-packages\\gym\\logger.py:30: UserWarning: \u001b[33mWARN: Box bound precision lowered by casting to float32\u001b[0m\n",
      "  warnings.warn(colorize('%s: %s'%('WARN', msg % args), 'yellow'))\n"
     ]
    },
    {
     "name": "stdout",
     "output_type": "stream",
     "text": [
      "490/489 [==============================] - 1s 3ms/step - reward: -0.3582 - cumulative_reward: -265.2629\n",
      "490/489 [==============================] - 2s 3ms/step - reward: 3.7228 - cumulative_reward: -410.7585\n",
      "490/489 [==============================] - 2s 4ms/step - reward: 0.7578 - cumulative_reward: -403.0535\n",
      "490/489 [==============================] - 2s 5ms/step - reward: 0.9177 - cumulative_reward: -395.5455\n",
      "453/489 [==========================>...] - ETA: 0s - reward: 0.4815 - cumulative_reward: -622.7081\n",
      "train 2 completed. total_reward: -467.59999999992806 total_profit: 0.8166881799725986\n",
      "min reward: -108.99999999999909, max reward: 199.30000000000004, mean_reward: -0.19093507554100778\n",
      "\n",
      "['loss', 'mean_absolute_error', 'mean_q']\n",
      "starting train 3\n",
      "------------------ new episode begin, environment reset -----------------------------\n",
      "Interval 1.0 (0 steps performed)\n",
      "  1/489 [..............................] - ETA: 1:36 - reward: 0.0000e+00 - cumulative_reward: 0.0000e+00"
     ]
    },
    {
     "name": "stderr",
     "output_type": "stream",
     "text": [
      "C:\\ProgramData\\Anaconda3\\lib\\site-packages\\gym\\logger.py:30: UserWarning: \u001b[33mWARN: Box bound precision lowered by casting to float32\u001b[0m\n",
      "  warnings.warn(colorize('%s: %s'%('WARN', msg % args), 'yellow'))\n"
     ]
    },
    {
     "name": "stdout",
     "output_type": "stream",
     "text": [
      "490/489 [==============================] - 2s 3ms/step - reward: -0.4288 - cumulative_reward: -81.2333\n",
      "490/489 [==============================] - 2s 4ms/step - reward: 0.7925 - cumulative_reward: 19.7051\n",
      "490/489 [==============================] - 2s 5ms/step - reward: -15.3254 - cumulative_reward: 118.7920\n",
      "490/489 [==============================] - 3s 5ms/step - reward: -21.7531 - cumulative_reward: 109.5061\n",
      "420/489 [========================>.....] - ETA: 0s - reward: -38.6757 - cumulative_reward: -77.1980 \n",
      "train 3 completed. total_reward: 89.09999999996874 total_profit: 0.8408486515060518\n",
      "min reward: -102.70000000000002, max reward: 195.19999999999982, mean_reward: 0.03638219681501378\n",
      "\n",
      "['loss', 'mean_absolute_error', 'mean_q']\n",
      "starting train 4\n",
      "------------------ new episode begin, environment reset -----------------------------\n",
      "Interval 1.0 (0 steps performed)\n"
     ]
    },
    {
     "name": "stderr",
     "output_type": "stream",
     "text": [
      "C:\\ProgramData\\Anaconda3\\lib\\site-packages\\gym\\logger.py:30: UserWarning: \u001b[33mWARN: Box bound precision lowered by casting to float32\u001b[0m\n",
      "  warnings.warn(colorize('%s: %s'%('WARN', msg % args), 'yellow'))\n"
     ]
    },
    {
     "name": "stdout",
     "output_type": "stream",
     "text": [
      "490/489 [==============================] - 2s 3ms/step - reward: -0.8863 - cumulative_reward: -249.7088\n",
      "490/489 [==============================] - 2s 4ms/step - reward: -1.8732 - cumulative_reward: -414.6930\n",
      "490/489 [==============================] - 2s 5ms/step - reward: 0.5973 - cumulative_reward: -581.0282\n",
      "490/489 [==============================] - 3s 6ms/step - reward: 0.4438 - cumulative_reward: -544.8764\n",
      "430/489 [=========================>....] - ETA: 0s - reward: 0.1563 - cumulative_reward: -525.9763\n",
      "train 4 completed. total_reward: -1051.29999999994 total_profit: 0.7887260371365095\n",
      "min reward: -165.10000000000025, max reward: 58.400000000000674, mean_reward: -0.42927725602284195\n",
      "\n",
      "['loss', 'mean_absolute_error', 'mean_q']\n",
      "starting train 5\n",
      "------------------ new episode begin, environment reset -----------------------------\n",
      "Interval 1.0 (0 steps performed)\n"
     ]
    },
    {
     "name": "stderr",
     "output_type": "stream",
     "text": [
      "C:\\ProgramData\\Anaconda3\\lib\\site-packages\\gym\\logger.py:30: UserWarning: \u001b[33mWARN: Box bound precision lowered by casting to float32\u001b[0m\n",
      "  warnings.warn(colorize('%s: %s'%('WARN', msg % args), 'yellow'))\n"
     ]
    },
    {
     "name": "stdout",
     "output_type": "stream",
     "text": [
      "490/489 [==============================] - 2s 4ms/step - reward: 0.5214 - cumulative_reward: 136.7514 ETA: 0s - reward: 0.3435 - cumulative_reward: 108.91\n",
      "490/489 [==============================] - 2s 5ms/step - reward: 0.7460 - cumulative_reward: 213.3864\n",
      "490/489 [==============================] - 3s 5ms/step - reward: 0.1158 - cumulative_reward: 16.1306\n",
      "490/489 [==============================] - 3s 6ms/step - reward: 1.1186 - cumulative_reward: 251.2746\n",
      "422/489 [========================>.....] - ETA: 0s - reward: 14.6379 - cumulative_reward: 195.0894\n",
      "train 5 completed. total_reward: 375.8999999999597 total_profit: 0.8497748572385866\n",
      "min reward: -128.80000000000226, max reward: 154.50000000000185, mean_reward: 0.153491220906476\n",
      "\n",
      "['loss', 'mean_absolute_error', 'mean_q']\n",
      "starting train 6\n",
      "------------------ new episode begin, environment reset -----------------------------\n",
      "Interval 1.0 (0 steps performed)\n"
     ]
    },
    {
     "name": "stderr",
     "output_type": "stream",
     "text": [
      "C:\\ProgramData\\Anaconda3\\lib\\site-packages\\gym\\logger.py:30: UserWarning: \u001b[33mWARN: Box bound precision lowered by casting to float32\u001b[0m\n",
      "  warnings.warn(colorize('%s: %s'%('WARN', msg % args), 'yellow'))\n"
     ]
    },
    {
     "name": "stdout",
     "output_type": "stream",
     "text": [
      "490/489 [==============================] - 3s 5ms/step - reward: 0.0812 - cumulative_reward: 105.3106\n",
      "490/489 [==============================] - 3s 7ms/step - reward: 0.1510 - cumulative_reward: 170.8583\n",
      "490/489 [==============================] - 4s 8ms/step - reward: 0.5638 - cumulative_reward: 332.2436\n",
      "490/489 [==============================] - 4s 9ms/step - reward: -5.3251 - cumulative_reward: 515.5672\n",
      "477/489 [============================>.] - ETA: 0s - reward: 8.1660 - cumulative_reward: 438.2775\n",
      "train 6 completed. total_reward: 785.4000000000378 total_profit: 0.8607132398245286\n",
      "min reward: -93.19999999999995, max reward: 168.70000000000164, mean_reward: 0.3207023274806198\n",
      "\n",
      "['loss', 'mean_absolute_error', 'mean_q']\n",
      "starting train 7\n",
      "------------------ new episode begin, environment reset -----------------------------\n",
      "Interval 1.0 (0 steps performed)\n"
     ]
    },
    {
     "name": "stderr",
     "output_type": "stream",
     "text": [
      "C:\\ProgramData\\Anaconda3\\lib\\site-packages\\gym\\logger.py:30: UserWarning: \u001b[33mWARN: Box bound precision lowered by casting to float32\u001b[0m\n",
      "  warnings.warn(colorize('%s: %s'%('WARN', msg % args), 'yellow'))\n"
     ]
    },
    {
     "name": "stdout",
     "output_type": "stream",
     "text": [
      "490/489 [==============================] - 2s 4ms/step - reward: -0.0100 - cumulative_reward: -42.3141\n",
      "490/489 [==============================] - 2s 5ms/step - reward: 0.1816 - cumulative_reward: -65.4875\n",
      "490/489 [==============================] - 3s 6ms/step - reward: -0.1682 - cumulative_reward: -217.9649\n",
      "490/489 [==============================] - 3s 6ms/step - reward: 0.0864 - cumulative_reward: -161.8823\n",
      "468/489 [===========================>..] - ETA: 0s - reward: 11.7889 - cumulative_reward: -250.9808\n",
      "train 7 completed. total_reward: -337.29999999993817 total_profit: 0.8152658432839226\n",
      "min reward: -114.70000000000091, max reward: 73.29999999999836, mean_reward: -0.1377296855859282\n",
      "\n",
      "['loss', 'mean_absolute_error', 'mean_q']\n",
      "starting train 8\n",
      "------------------ new episode begin, environment reset -----------------------------\n",
      "Interval 1.0 (0 steps performed)\n"
     ]
    },
    {
     "name": "stderr",
     "output_type": "stream",
     "text": [
      "C:\\ProgramData\\Anaconda3\\lib\\site-packages\\gym\\logger.py:30: UserWarning: \u001b[33mWARN: Box bound precision lowered by casting to float32\u001b[0m\n",
      "  warnings.warn(colorize('%s: %s'%('WARN', msg % args), 'yellow'))\n"
     ]
    },
    {
     "name": "stdout",
     "output_type": "stream",
     "text": [
      "490/489 [==============================] - 3s 6ms/step - reward: -0.0161 - cumulative_reward: 51.6055\n",
      "490/489 [==============================] - 3s 6ms/step - reward: 0.3517 - cumulative_reward: 136.7426\n",
      "490/489 [==============================] - 4s 7ms/step - reward: -7.8748 - cumulative_reward: 222.6921\n",
      "490/489 [==============================] - 4s 8ms/step - reward: -8.6518 - cumulative_reward: 43.9410\n",
      "461/489 [===========================>..] - ETA: 0s - reward: -9.8837 - cumulative_reward: -40.9701\n",
      "train 8 completed. total_reward: -618.9000000000108 total_profit: 0.80089597413091\n",
      "min reward: -170.40000000000165, max reward: 71.99999999999874, mean_reward: -0.25271539403838744\n",
      "\n",
      "['loss', 'mean_absolute_error', 'mean_q']\n",
      "starting train 9\n",
      "------------------ new episode begin, environment reset -----------------------------\n",
      "Interval 1.0 (0 steps performed)\n"
     ]
    },
    {
     "name": "stderr",
     "output_type": "stream",
     "text": [
      "C:\\ProgramData\\Anaconda3\\lib\\site-packages\\gym\\logger.py:30: UserWarning: \u001b[33mWARN: Box bound precision lowered by casting to float32\u001b[0m\n",
      "  warnings.warn(colorize('%s: %s'%('WARN', msg % args), 'yellow'))\n"
     ]
    },
    {
     "name": "stdout",
     "output_type": "stream",
     "text": [
      "490/489 [==============================] - 3s 6ms/step - reward: -1.0963 - cumulative_reward: -286.9841\n",
      "490/489 [==============================] - 4s 8ms/step - reward: -1.3631 - cumulative_reward: -338.7806\n",
      "490/489 [==============================] - 5s 9ms/step - reward: -1.3811 - cumulative_reward: -312.6162\n",
      "490/489 [==============================] - 5s 11ms/step - reward: -2.1146 - cumulative_reward: -411.9053\n",
      "473/489 [============================>.] - ETA: 0s - reward: -2.3949 - cumulative_reward: -377.1723\n",
      "train 9 completed. total_reward: -1113.1000000000204 total_profit: 0.7963553168914033\n",
      "min reward: -135.19999999999976, max reward: 55.000000000000604, mean_reward: -0.45451204573296056\n",
      "\n",
      "['loss', 'mean_absolute_error', 'mean_q']\n",
      "starting train 10\n",
      "------------------ new episode begin, environment reset -----------------------------\n",
      "Interval 1.0 (0 steps performed)\n"
     ]
    },
    {
     "name": "stderr",
     "output_type": "stream",
     "text": [
      "C:\\ProgramData\\Anaconda3\\lib\\site-packages\\gym\\logger.py:30: UserWarning: \u001b[33mWARN: Box bound precision lowered by casting to float32\u001b[0m\n",
      "  warnings.warn(colorize('%s: %s'%('WARN', msg % args), 'yellow'))\n"
     ]
    },
    {
     "name": "stdout",
     "output_type": "stream",
     "text": [
      "490/489 [==============================] - 3s 5ms/step - reward: 0.3267 - cumulative_reward: 203.2753\n",
      "490/489 [==============================] - 3s 7ms/step - reward: 0.9233 - cumulative_reward: 395.2375\n",
      "490/489 [==============================] - 4s 8ms/step - reward: -2.6370 - cumulative_reward: 358.0705\n",
      "490/489 [==============================] - 5s 10ms/step - reward: -1.9239 - cumulative_reward: 447.5630\n",
      "467/489 [===========================>..] - ETA: 0s - reward: 18.9660 - cumulative_reward: 399.7723\n",
      "train 10 completed. total_reward: 545.9000000000732 total_profit: 0.8462921365097876\n",
      "min reward: -81.50000000000102, max reward: 143.90000000000347, mean_reward: 0.22290730910578735\n",
      "\n",
      "['loss', 'mean_absolute_error', 'mean_q']\n",
      "starting train 11\n",
      "------------------ new episode begin, environment reset -----------------------------\n",
      "Interval 1.0 (0 steps performed)\n"
     ]
    },
    {
     "name": "stderr",
     "output_type": "stream",
     "text": [
      "C:\\ProgramData\\Anaconda3\\lib\\site-packages\\gym\\logger.py:30: UserWarning: \u001b[33mWARN: Box bound precision lowered by casting to float32\u001b[0m\n",
      "  warnings.warn(colorize('%s: %s'%('WARN', msg % args), 'yellow'))\n"
     ]
    },
    {
     "name": "stdout",
     "output_type": "stream",
     "text": [
      "490/489 [==============================] - 3s 6ms/step - reward: 1.1422 - cumulative_reward: 245.0957\n",
      "490/489 [==============================] - 3s 6ms/step - reward: 1.6152 - cumulative_reward: 197.7991\n",
      "490/489 [==============================] - 4s 7ms/step - reward: 2.8436 - cumulative_reward: 178.5653\n",
      "490/489 [==============================] - 4s 8ms/step - reward: 2.4556 - cumulative_reward: 51.1543\n",
      "473/489 [============================>.] - ETA: 0s - reward: -18.6662 - cumulative_reward: -83.8111 \n",
      "train 11 completed. total_reward: 145.8999999999355 total_profit: 0.8324950650882467\n",
      "min reward: -154.50000000000185, max reward: 104.50000000000071, mean_reward: 0.05957533687216639\n",
      "\n",
      "['loss', 'mean_absolute_error', 'mean_q']\n",
      "starting train 12\n",
      "------------------ new episode begin, environment reset -----------------------------\n",
      "Interval 1.0 (0 steps performed)\n"
     ]
    },
    {
     "name": "stderr",
     "output_type": "stream",
     "text": [
      "C:\\ProgramData\\Anaconda3\\lib\\site-packages\\gym\\logger.py:30: UserWarning: \u001b[33mWARN: Box bound precision lowered by casting to float32\u001b[0m\n",
      "  warnings.warn(colorize('%s: %s'%('WARN', msg % args), 'yellow'))\n"
     ]
    },
    {
     "name": "stdout",
     "output_type": "stream",
     "text": [
      "490/489 [==============================] - 3s 6ms/step - reward: 0.0306 - cumulative_reward: -154.0484\n",
      "490/489 [==============================] - 3s 7ms/step - reward: 0.5920 - cumulative_reward: -27.1208\n",
      "490/489 [==============================] - 4s 8ms/step - reward: -0.3648 - cumulative_reward: -277.6889\n",
      "490/489 [==============================] - 4s 9ms/step - reward: -1.0618 - cumulative_reward: -429.8782\n",
      "441/489 [==========================>...] - ETA: 0s - reward: 20.6543 - cumulative_reward: -549.9605\n",
      "train 12 completed. total_reward: -798.6999999999056 total_profit: 0.7923629641591581\n",
      "min reward: -120.70000000000248, max reward: 71.79999999999964, mean_reward: -0.3261331155573318\n",
      "\n",
      "['loss', 'mean_absolute_error', 'mean_q']\n",
      "starting train 13\n",
      "------------------ new episode begin, environment reset -----------------------------\n",
      "Interval 1.0 (0 steps performed)\n"
     ]
    },
    {
     "name": "stderr",
     "output_type": "stream",
     "text": [
      "C:\\ProgramData\\Anaconda3\\lib\\site-packages\\gym\\logger.py:30: UserWarning: \u001b[33mWARN: Box bound precision lowered by casting to float32\u001b[0m\n",
      "  warnings.warn(colorize('%s: %s'%('WARN', msg % args), 'yellow'))\n"
     ]
    },
    {
     "name": "stdout",
     "output_type": "stream",
     "text": [
      "490/489 [==============================] - 3s 6ms/step - reward: 0.1198 - cumulative_reward: 14.4396\n",
      "490/489 [==============================] - 4s 7ms/step - reward: 4.6332 - cumulative_reward: -22.2898\n",
      "490/489 [==============================] - 4s 8ms/step - reward: 4.6886 - cumulative_reward: 8.5746\n",
      "490/489 [==============================] - 4s 9ms/step - reward: 13.8042 - cumulative_reward: 73.1565\n",
      "466/489 [===========================>..] - ETA: 0s - reward: 14.5318 - cumulative_reward: 126.7124\n",
      "train 13 completed. total_reward: 289.5999999999029 total_profit: 0.8406953446784186\n",
      "min reward: -114.20000000000208, max reward: 181.00000000000006, mean_reward: 0.1182523478970612\n",
      "\n",
      "['loss', 'mean_absolute_error', 'mean_q']\n",
      "starting train 14\n",
      "------------------ new episode begin, environment reset -----------------------------\n",
      "Interval 1.0 (0 steps performed)\n"
     ]
    },
    {
     "name": "stderr",
     "output_type": "stream",
     "text": [
      "C:\\ProgramData\\Anaconda3\\lib\\site-packages\\gym\\logger.py:30: UserWarning: \u001b[33mWARN: Box bound precision lowered by casting to float32\u001b[0m\n",
      "  warnings.warn(colorize('%s: %s'%('WARN', msg % args), 'yellow'))\n"
     ]
    },
    {
     "name": "stdout",
     "output_type": "stream",
     "text": [
      "490/489 [==============================] - 4s 7ms/step - reward: 0.8341 - cumulative_reward: 284.8196\n",
      "490/489 [==============================] - 4s 8ms/step - reward: 1.8622 - cumulative_reward: 404.2530\n",
      "490/489 [==============================] - 4s 9ms/step - reward: -1.5779 - cumulative_reward: 330.4126\n",
      "490/489 [==============================] - 5s 10ms/step - reward: 13.8002 - cumulative_reward: 63.0945\n",
      "461/489 [===========================>..] - ETA: 0s - reward: 1.7390 - cumulative_reward: 65.6338 \n",
      "train 14 completed. total_reward: -290.90000000008666 total_profit: 0.8208882196770283\n",
      "min reward: -168.70000000000164, max reward: 101.89999999999921, mean_reward: -0.11878317680689533\n",
      "\n",
      "['loss', 'mean_absolute_error', 'mean_q']\n",
      "starting train 15\n",
      "------------------ new episode begin, environment reset -----------------------------\n",
      "Interval 1.0 (0 steps performed)\n"
     ]
    },
    {
     "name": "stderr",
     "output_type": "stream",
     "text": [
      "C:\\ProgramData\\Anaconda3\\lib\\site-packages\\gym\\logger.py:30: UserWarning: \u001b[33mWARN: Box bound precision lowered by casting to float32\u001b[0m\n",
      "  warnings.warn(colorize('%s: %s'%('WARN', msg % args), 'yellow'))\n"
     ]
    },
    {
     "name": "stdout",
     "output_type": "stream",
     "text": [
      "490/489 [==============================] - 3s 7ms/step - reward: -1.2361 - cumulative_reward: -193.8567\n",
      "490/489 [==============================] - 4s 8ms/step - reward: -1.5991 - cumulative_reward: -307.6551\n",
      "490/489 [==============================] - 4s 9ms/step - reward: -1.6119 - cumulative_reward: -195.8479\n",
      "490/489 [==============================] - 5s 10ms/step - reward: -9.3844 - cumulative_reward: -371.1965\n",
      "454/489 [==========================>...] - ETA: 0s - reward: -10.0295 - cumulative_reward: -166.1605\n",
      "train 15 completed. total_reward: -1141.6999999999373 total_profit: 0.7795894348845116\n",
      "min reward: -155.49999999999952, max reward: 129.89999999999836, mean_reward: -0.4661902817476265\n",
      "\n",
      "['loss', 'mean_absolute_error', 'mean_q']\n",
      "starting train 16\n",
      "------------------ new episode begin, environment reset -----------------------------\n",
      "Interval 1.0 (0 steps performed)\n"
     ]
    },
    {
     "name": "stderr",
     "output_type": "stream",
     "text": [
      "C:\\ProgramData\\Anaconda3\\lib\\site-packages\\gym\\logger.py:30: UserWarning: \u001b[33mWARN: Box bound precision lowered by casting to float32\u001b[0m\n",
      "  warnings.warn(colorize('%s: %s'%('WARN', msg % args), 'yellow'))\n"
     ]
    },
    {
     "name": "stdout",
     "output_type": "stream",
     "text": [
      "490/489 [==============================] - 4s 8ms/step - reward: -0.5018 - cumulative_reward: -107.6724\n",
      "490/489 [==============================] - 4s 9ms/step - reward: -0.1153 - cumulative_reward: -117.9473\n",
      "490/489 [==============================] - 5s 10ms/step - reward: -0.7469 - cumulative_reward: -269.4123\n",
      "490/489 [==============================] - 5s 11ms/step - reward: -7.1961 - cumulative_reward: -124.0233\n",
      "467/489 [===========================>..] - ETA: 0s - reward: 5.1373 - cumulative_reward: -25.6479\n",
      "train 16 completed. total_reward: -32.00000000000528 total_profit: 0.8321096607747798\n",
      "min reward: -104.80000000000045, max reward: 168.70000000000164, mean_reward: -0.013066557778687333\n",
      "\n",
      "['loss', 'mean_absolute_error', 'mean_q']\n",
      "starting train 17\n",
      "------------------ new episode begin, environment reset -----------------------------\n",
      "Interval 1.0 (0 steps performed)\n"
     ]
    },
    {
     "name": "stderr",
     "output_type": "stream",
     "text": [
      "C:\\ProgramData\\Anaconda3\\lib\\site-packages\\gym\\logger.py:30: UserWarning: \u001b[33mWARN: Box bound precision lowered by casting to float32\u001b[0m\n",
      "  warnings.warn(colorize('%s: %s'%('WARN', msg % args), 'yellow'))\n"
     ]
    },
    {
     "name": "stdout",
     "output_type": "stream",
     "text": [
      "490/489 [==============================] - 4s 8ms/step - reward: -0.0306 - cumulative_reward: -57.1124\n",
      "490/489 [==============================] - 4s 9ms/step - reward: -20.0793 - cumulative_reward: -6.9393\n",
      "490/489 [==============================] - 5s 10ms/step - reward: -20.4946 - cumulative_reward: -76.6090\n",
      "490/489 [==============================] - 5s 10ms/step - reward: -12.1402 - cumulative_reward: -157.4735\n",
      "444/489 [==========================>...] - ETA: 0s - reward: -14.0803 - cumulative_reward: -169.2085\n",
      "train 17 completed. total_reward: -599.6999999999878 total_profit: 0.8216004510973295\n",
      "min reward: -152.40000000000143, max reward: 95.60000000000014, mean_reward: -0.24487545937116692\n",
      "\n",
      "['loss', 'mean_absolute_error', 'mean_q']\n",
      "starting train 18\n",
      "------------------ new episode begin, environment reset -----------------------------\n",
      "Interval 1.0 (0 steps performed)\n"
     ]
    },
    {
     "name": "stderr",
     "output_type": "stream",
     "text": [
      "C:\\ProgramData\\Anaconda3\\lib\\site-packages\\gym\\logger.py:30: UserWarning: \u001b[33mWARN: Box bound precision lowered by casting to float32\u001b[0m\n",
      "  warnings.warn(colorize('%s: %s'%('WARN', msg % args), 'yellow'))\n"
     ]
    },
    {
     "name": "stdout",
     "output_type": "stream",
     "text": [
      "490/489 [==============================] - 4s 8ms/step - reward: -0.6159 - cumulative_reward: -111.8453\n",
      "490/489 [==============================] - 4s 9ms/step - reward: -1.0233 - cumulative_reward: -129.3035\n",
      "490/489 [==============================] - 5s 10ms/step - reward: -20.7149 - cumulative_reward: -186.7691\n",
      "490/489 [==============================] - 5s 11ms/step - reward: -20.4474 - cumulative_reward: -63.1897\n",
      "447/489 [==========================>...] - ETA: 0s - reward: -23.1349 - cumulative_reward: -65.7538\n",
      "train 18 completed. total_reward: -860.3000000000422 total_profit: 0.7980402973860822\n",
      "min reward: -174.50000000000188, max reward: 71.99999999999874, mean_reward: -0.35128623928135655\n",
      "\n",
      "['loss', 'mean_absolute_error', 'mean_q']\n",
      "starting train 19\n",
      "------------------ new episode begin, environment reset -----------------------------\n",
      "Interval 1.0 (0 steps performed)\n"
     ]
    },
    {
     "name": "stderr",
     "output_type": "stream",
     "text": [
      "C:\\ProgramData\\Anaconda3\\lib\\site-packages\\gym\\logger.py:30: UserWarning: \u001b[33mWARN: Box bound precision lowered by casting to float32\u001b[0m\n",
      "  warnings.warn(colorize('%s: %s'%('WARN', msg % args), 'yellow'))\n"
     ]
    },
    {
     "name": "stdout",
     "output_type": "stream",
     "text": [
      "490/489 [==============================] - 4s 9ms/step - reward: 0.1351 - cumulative_reward: 90.3049\n",
      "490/489 [==============================] - 5s 10ms/step - reward: -16.7512 - cumulative_reward: 178.7901\n",
      "490/489 [==============================] - 5s 11ms/step - reward: -18.4788 - cumulative_reward: 83.8794\n",
      "490/489 [==============================] - 6s 12ms/step - reward: -2.2543 - cumulative_reward: 15.3589\n",
      "473/489 [============================>.] - ETA: 0s - reward: -2.4569 - cumulative_reward: -32.8356\n",
      "train 19 completed. total_reward: -58.600000000046315 total_profit: 0.834023355687753\n",
      "min reward: -88.50000000000024, max reward: 168.70000000000164, mean_reward: -0.023928133932236143\n",
      "\n",
      "['loss', 'mean_absolute_error', 'mean_q']\n",
      "starting train 20\n",
      "------------------ new episode begin, environment reset -----------------------------\n",
      "Interval 1.0 (0 steps performed)\n"
     ]
    },
    {
     "name": "stderr",
     "output_type": "stream",
     "text": [
      "C:\\ProgramData\\Anaconda3\\lib\\site-packages\\gym\\logger.py:30: UserWarning: \u001b[33mWARN: Box bound precision lowered by casting to float32\u001b[0m\n",
      "  warnings.warn(colorize('%s: %s'%('WARN', msg % args), 'yellow'))\n"
     ]
    },
    {
     "name": "stdout",
     "output_type": "stream",
     "text": [
      "490/489 [==============================] - 5s 10ms/step - reward: 0.5002 - cumulative_reward: 181.0143\n",
      "490/489 [==============================] - 6s 12ms/step - reward: 7.3067 - cumulative_reward: 484.7596\n",
      "490/489 [==============================] - 6s 13ms/step - reward: 7.5306 - cumulative_reward: 528.5098\n",
      "490/489 [==============================] - 7s 14ms/step - reward: 6.7995 - cumulative_reward: 463.2665\n",
      "483/489 [============================>.] - ETA: 0s - reward: 17.9819 - cumulative_reward: 360.0977\n",
      "train 20 completed. total_reward: -17.49999999995698 total_profit: 0.8332244333098143\n",
      "min reward: -170.40000000000165, max reward: 131.29999999999865, mean_reward: -0.007145773785200891\n",
      "\n",
      "['loss', 'mean_absolute_error', 'mean_q']\n",
      "starting train 21\n",
      "------------------ new episode begin, environment reset -----------------------------\n",
      "Interval 1.0 (0 steps performed)\n"
     ]
    },
    {
     "name": "stderr",
     "output_type": "stream",
     "text": [
      "C:\\ProgramData\\Anaconda3\\lib\\site-packages\\gym\\logger.py:30: UserWarning: \u001b[33mWARN: Box bound precision lowered by casting to float32\u001b[0m\n",
      "  warnings.warn(colorize('%s: %s'%('WARN', msg % args), 'yellow'))\n"
     ]
    },
    {
     "name": "stdout",
     "output_type": "stream",
     "text": [
      "490/489 [==============================] - 5s 10ms/step - reward: -0.1743 - cumulative_reward: -25.4631\n",
      "490/489 [==============================] - 5s 11ms/step - reward: 0.5596 - cumulative_reward: 313.0735\n",
      "490/489 [==============================] - 6s 12ms/step - reward: -0.0591 - cumulative_reward: 402.4399\n",
      "490/489 [==============================] - 7s 13ms/step - reward: -0.4545 - cumulative_reward: 188.7444\n",
      "482/489 [============================>.] - ETA: 0s - reward: -13.3053 - cumulative_reward: 76.2935\n",
      "train 21 completed. total_reward: 3.154099204039085e-11 total_profit: 0.8286037451179828\n",
      "min reward: -154.50000000000185, max reward: 88.70000000000155, mean_reward: 1.2879131090400509e-14\n",
      "\n",
      "['loss', 'mean_absolute_error', 'mean_q']\n",
      "starting train 22\n",
      "------------------ new episode begin, environment reset -----------------------------\n",
      "Interval 1.0 (0 steps performed)\n"
     ]
    },
    {
     "name": "stderr",
     "output_type": "stream",
     "text": [
      "C:\\ProgramData\\Anaconda3\\lib\\site-packages\\gym\\logger.py:30: UserWarning: \u001b[33mWARN: Box bound precision lowered by casting to float32\u001b[0m\n",
      "  warnings.warn(colorize('%s: %s'%('WARN', msg % args), 'yellow'))\n"
     ]
    },
    {
     "name": "stdout",
     "output_type": "stream",
     "text": [
      "490/489 [==============================] - 5s 9ms/step - reward: 0.4118 - cumulative_reward: 177.9106\n",
      "490/489 [==============================] - 5s 10ms/step - reward: 0.8064 - cumulative_reward: 373.8696\n",
      "490/489 [==============================] - 6s 11ms/step - reward: 0.8254 - cumulative_reward: 289.1118\n",
      "490/489 [==============================] - 6s 12ms/step - reward: 0.0997 - cumulative_reward: 191.2374\n",
      "452/489 [==========================>...] - ETA: 0s - reward: -0.4143 - cumulative_reward: 49.2168\n",
      "train 22 completed. total_reward: -233.8999999999756 total_profit: 0.8164223586727173\n",
      "min reward: -181.00000000000006, max reward: 78.30000000000226, mean_reward: -0.095508370763567\n",
      "\n",
      "['loss', 'mean_absolute_error', 'mean_q']\n",
      "starting train 23\n",
      "------------------ new episode begin, environment reset -----------------------------\n",
      "Interval 1.0 (0 steps performed)\n"
     ]
    },
    {
     "name": "stderr",
     "output_type": "stream",
     "text": [
      "C:\\ProgramData\\Anaconda3\\lib\\site-packages\\gym\\logger.py:30: UserWarning: \u001b[33mWARN: Box bound precision lowered by casting to float32\u001b[0m\n",
      "  warnings.warn(colorize('%s: %s'%('WARN', msg % args), 'yellow'))\n"
     ]
    },
    {
     "name": "stdout",
     "output_type": "stream",
     "text": [
      "490/489 [==============================] - 5s 10ms/step - reward: 0.8592 - cumulative_reward: 250.1365\n",
      "490/489 [==============================] - 5s 11ms/step - reward: 1.1903 - cumulative_reward: 346.3592\n",
      "490/489 [==============================] - 6s 12ms/step - reward: -0.4235 - cumulative_reward: 163.9628\n",
      "490/489 [==============================] - 7s 13ms/step - reward: -0.7822 - cumulative_reward: 54.1622\n",
      "474/489 [============================>.] - ETA: 0s - reward: 11.1360 - cumulative_reward: 9.5684\n",
      "train 23 completed. total_reward: 49.79999999994372 total_profit: 0.8343979907461715\n",
      "min reward: -195.19999999999982, max reward: 101.19999999999906, mean_reward: 0.020334830543055828\n",
      "\n",
      "['loss', 'mean_absolute_error', 'mean_q']\n",
      "starting train 24\n",
      "------------------ new episode begin, environment reset -----------------------------\n",
      "Interval 1.0 (0 steps performed)\n"
     ]
    },
    {
     "name": "stderr",
     "output_type": "stream",
     "text": [
      "C:\\ProgramData\\Anaconda3\\lib\\site-packages\\gym\\logger.py:30: UserWarning: \u001b[33mWARN: Box bound precision lowered by casting to float32\u001b[0m\n",
      "  warnings.warn(colorize('%s: %s'%('WARN', msg % args), 'yellow'))\n"
     ]
    },
    {
     "name": "stdout",
     "output_type": "stream",
     "text": [
      "490/489 [==============================] - 5s 11ms/step - reward: 0.5098 - cumulative_reward: 172.1216\n",
      "490/489 [==============================] - 6s 12ms/step - reward: -17.4023 - cumulative_reward: 39.0152\n",
      "490/489 [==============================] - 7s 13ms/step - reward: -18.8279 - cumulative_reward: 128.5819\n",
      "490/489 [==============================] - 8s 16ms/step - reward: -25.7272 - cumulative_reward: 315.9784\n",
      "472/489 [===========================>..] - ETA: 0s - reward: -26.8595 - cumulative_reward: 319.6390\n",
      "train 24 completed. total_reward: -130.40000000006367 total_profit: 0.8305921892881662\n",
      "min reward: -169.6999999999993, max reward: 102.79999999999845, mean_reward: -0.053246222948168095\n",
      "\n",
      "['loss', 'mean_absolute_error', 'mean_q']\n",
      "starting train 25\n",
      "------------------ new episode begin, environment reset -----------------------------\n",
      "Interval 1.0 (0 steps performed)\n"
     ]
    },
    {
     "name": "stderr",
     "output_type": "stream",
     "text": [
      "C:\\ProgramData\\Anaconda3\\lib\\site-packages\\gym\\logger.py:30: UserWarning: \u001b[33mWARN: Box bound precision lowered by casting to float32\u001b[0m\n",
      "  warnings.warn(colorize('%s: %s'%('WARN', msg % args), 'yellow'))\n"
     ]
    },
    {
     "name": "stdout",
     "output_type": "stream",
     "text": [
      "490/489 [==============================] - 6s 11ms/step - reward: -0.3765 - cumulative_reward: -136.7339\n",
      "490/489 [==============================] - 6s 13ms/step - reward: -0.6907 - cumulative_reward: -261.5310\n",
      "490/489 [==============================] - 7s 14ms/step - reward: -4.2196 - cumulative_reward: -393.8807\n",
      "490/489 [==============================] - 7s 15ms/step - reward: -3.1836 - cumulative_reward: -173.9001\n",
      "473/489 [============================>.] - ETA: 0s - reward: -3.0932 - cumulative_reward: -169.1129\n",
      "train 25 completed. total_reward: 50.400000000010166 total_profit: 0.8296326795735012\n",
      "min reward: -103.90000000000121, max reward: 170.40000000000165, mean_reward: 0.020579828501433306\n",
      "\n",
      "['loss', 'mean_absolute_error', 'mean_q']\n",
      "starting train 26\n",
      "------------------ new episode begin, environment reset -----------------------------\n",
      "Interval 1.0 (0 steps performed)\n"
     ]
    },
    {
     "name": "stderr",
     "output_type": "stream",
     "text": [
      "C:\\ProgramData\\Anaconda3\\lib\\site-packages\\gym\\logger.py:30: UserWarning: \u001b[33mWARN: Box bound precision lowered by casting to float32\u001b[0m\n",
      "  warnings.warn(colorize('%s: %s'%('WARN', msg % args), 'yellow'))\n"
     ]
    },
    {
     "name": "stdout",
     "output_type": "stream",
     "text": [
      "490/489 [==============================] - 6s 11ms/step - reward: 1.1851 - cumulative_reward: 418.3480\n",
      "490/489 [==============================] - 6s 13ms/step - reward: 2.1847 - cumulative_reward: 488.7672\n",
      "490/489 [==============================] - 7s 14ms/step - reward: 2.2142 - cumulative_reward: 489.8602\n",
      "490/489 [==============================] - 7s 15ms/step - reward: 2.3703 - cumulative_reward: 425.8117\n",
      "473/489 [============================>.] - ETA: 0s - reward: -10.2542 - cumulative_reward: 350.0167\n",
      "train 26 completed. total_reward: 600.6999999999194 total_profit: 0.8571267927080733\n",
      "min reward: -81.50000000000102, max reward: 203.40000000000026, mean_reward: 0.24528378930172293\n",
      "\n",
      "['loss', 'mean_absolute_error', 'mean_q']\n",
      "starting train 27\n",
      "------------------ new episode begin, environment reset -----------------------------\n",
      "Interval 1.0 (0 steps performed)\n"
     ]
    },
    {
     "name": "stderr",
     "output_type": "stream",
     "text": [
      "C:\\ProgramData\\Anaconda3\\lib\\site-packages\\gym\\logger.py:30: UserWarning: \u001b[33mWARN: Box bound precision lowered by casting to float32\u001b[0m\n",
      "  warnings.warn(colorize('%s: %s'%('WARN', msg % args), 'yellow'))\n"
     ]
    },
    {
     "name": "stdout",
     "output_type": "stream",
     "text": [
      "490/489 [==============================] - 6s 11ms/step - reward: 0.3635 - cumulative_reward: 110.7616\n",
      "490/489 [==============================] - 6s 13ms/step - reward: -4.6860 - cumulative_reward: 36.4692\n",
      "490/489 [==============================] - 7s 14ms/step - reward: -7.5312 - cumulative_reward: -63.7481\n",
      "490/489 [==============================] - 7s 15ms/step - reward: -7.1865 - cumulative_reward: 104.1875\n",
      "459/489 [===========================>..] - ETA: 0s - reward: -8.5735 - cumulative_reward: -48.1996\n",
      "train 27 completed. total_reward: -273.1000000000061 total_profit: 0.8162919289628607\n",
      "min reward: -163.50000000000085, max reward: 71.99999999999874, mean_reward: -0.1115149040424688\n",
      "\n",
      "['loss', 'mean_absolute_error', 'mean_q']\n",
      "starting train 28\n",
      "------------------ new episode begin, environment reset -----------------------------\n",
      "Interval 1.0 (0 steps performed)\n"
     ]
    },
    {
     "name": "stderr",
     "output_type": "stream",
     "text": [
      "C:\\ProgramData\\Anaconda3\\lib\\site-packages\\gym\\logger.py:30: UserWarning: \u001b[33mWARN: Box bound precision lowered by casting to float32\u001b[0m\n",
      "  warnings.warn(colorize('%s: %s'%('WARN', msg % args), 'yellow'))\n"
     ]
    },
    {
     "name": "stdout",
     "output_type": "stream",
     "text": [
      "490/489 [==============================] - 6s 13ms/step - reward: -0.4024 - cumulative_reward: -181.4578\n",
      "490/489 [==============================] - 7s 15ms/step - reward: 17.2858 - cumulative_reward: -46.3156\n",
      "490/489 [==============================] - 8s 16ms/step - reward: 16.5155 - cumulative_reward: -293.1040\n",
      "490/489 [==============================] - 8s 17ms/step - reward: 11.9516 - cumulative_reward: -470.8986\n",
      "452/489 [==========================>...] - ETA: 0s - reward: 12.4639 - cumulative_reward: -555.1789\n",
      "train 28 completed. total_reward: -1095.6999999999694 total_profit: 0.7999652380584005\n",
      "min reward: -163.69999999999996, max reward: 78.00000000000028, mean_reward: -0.4474071049407796\n",
      "\n",
      "['loss', 'mean_absolute_error', 'mean_q']\n",
      "starting train 29\n",
      "------------------ new episode begin, environment reset -----------------------------\n",
      "Interval 1.0 (0 steps performed)\n"
     ]
    },
    {
     "name": "stderr",
     "output_type": "stream",
     "text": [
      "C:\\ProgramData\\Anaconda3\\lib\\site-packages\\gym\\logger.py:30: UserWarning: \u001b[33mWARN: Box bound precision lowered by casting to float32\u001b[0m\n",
      "  warnings.warn(colorize('%s: %s'%('WARN', msg % args), 'yellow'))\n"
     ]
    },
    {
     "name": "stdout",
     "output_type": "stream",
     "text": [
      "490/489 [==============================] - 7s 13ms/step - reward: -0.4331 - cumulative_reward: 15.3702\n",
      "490/489 [==============================] - 8s 15ms/step - reward: 17.7865 - cumulative_reward: 247.1674\n",
      "490/489 [==============================] - 8s 17ms/step - reward: 18.0100 - cumulative_reward: 308.7024\n",
      "490/489 [==============================] - 10s 20ms/step - reward: 19.1971 - cumulative_reward: 567.4209\n",
      "475/489 [============================>.] - ETA: 0s - reward: 54.4171 - cumulative_reward: 602.4404\n",
      "train 29 completed. total_reward: 753.1999999999919 total_profit: 0.8643992366124803\n",
      "min reward: -65.90000000000096, max reward: 203.40000000000026, mean_reward: 0.30755410371579905\n",
      "\n",
      "['loss', 'mean_absolute_error', 'mean_q']\n",
      "starting train 30\n",
      "------------------ new episode begin, environment reset -----------------------------\n",
      "Interval 1.0 (0 steps performed)\n"
     ]
    },
    {
     "name": "stderr",
     "output_type": "stream",
     "text": [
      "C:\\ProgramData\\Anaconda3\\lib\\site-packages\\gym\\logger.py:30: UserWarning: \u001b[33mWARN: Box bound precision lowered by casting to float32\u001b[0m\n",
      "  warnings.warn(colorize('%s: %s'%('WARN', msg % args), 'yellow'))\n"
     ]
    },
    {
     "name": "stdout",
     "output_type": "stream",
     "text": [
      "490/489 [==============================] - 7s 14ms/step - reward: 0.1753 - cumulative_reward: 201.3790\n",
      "490/489 [==============================] - 8s 16ms/step - reward: 0.1987 - cumulative_reward: 245.3922\n",
      "490/489 [==============================] - 8s 17ms/step - reward: 20.0408 - cumulative_reward: 292.0723\n",
      "490/489 [==============================] - 9s 18ms/step - reward: 36.2149 - cumulative_reward: 298.2843\n",
      "471/489 [===========================>..] - ETA: 0s - reward: 48.4029 - cumulative_reward: 316.5779\n",
      "train 30 completed. total_reward: -6.099999999957525 total_profit: 0.8180988423294556\n",
      "min reward: -195.19999999999982, max reward: 68.20000000000049, mean_reward: -0.002490812576544518\n",
      "\n",
      "['loss', 'mean_absolute_error', 'mean_q']\n",
      "starting train 31\n",
      "------------------ new episode begin, environment reset -----------------------------\n",
      "Interval 1.0 (0 steps performed)\n"
     ]
    },
    {
     "name": "stderr",
     "output_type": "stream",
     "text": [
      "C:\\ProgramData\\Anaconda3\\lib\\site-packages\\gym\\logger.py:30: UserWarning: \u001b[33mWARN: Box bound precision lowered by casting to float32\u001b[0m\n",
      "  warnings.warn(colorize('%s: %s'%('WARN', msg % args), 'yellow'))\n"
     ]
    },
    {
     "name": "stdout",
     "output_type": "stream",
     "text": [
      "490/489 [==============================] - 7s 14ms/step - reward: -0.4743 - cumulative_reward: -42.0284\n",
      "490/489 [==============================] - 8s 16ms/step - reward: -0.6899 - cumulative_reward: -104.0648\n",
      "490/489 [==============================] - 9s 17ms/step - reward: 18.3679 - cumulative_reward: -208.8669\n",
      "490/489 [==============================] - 10s 19ms/step - reward: 18.1796 - cumulative_reward: -334.3869\n",
      "477/489 [============================>.] - ETA: 0s - reward: 5.9782 - cumulative_reward: -439.3059\n",
      "train 31 completed. total_reward: -889.2999999999566 total_profit: 0.7892218600628502\n",
      "min reward: -109.20000000000041, max reward: 154.50000000000185, mean_reward: -0.36312780726825505\n",
      "\n",
      "['loss', 'mean_absolute_error', 'mean_q']\n",
      "starting train 32\n",
      "------------------ new episode begin, environment reset -----------------------------\n",
      "Interval 1.0 (0 steps performed)\n"
     ]
    },
    {
     "name": "stderr",
     "output_type": "stream",
     "text": [
      "C:\\ProgramData\\Anaconda3\\lib\\site-packages\\gym\\logger.py:30: UserWarning: \u001b[33mWARN: Box bound precision lowered by casting to float32\u001b[0m\n",
      "  warnings.warn(colorize('%s: %s'%('WARN', msg % args), 'yellow'))\n"
     ]
    },
    {
     "name": "stdout",
     "output_type": "stream",
     "text": [
      "490/489 [==============================] - 7s 15ms/step - reward: 0.2773 - cumulative_reward: 125.3082\n",
      "490/489 [==============================] - 8s 16ms/step - reward: 0.1452 - cumulative_reward: 113.8384\n",
      "490/489 [==============================] - 9s 19ms/step - reward: -0.0663 - cumulative_reward: 75.0035\n",
      "490/489 [==============================] - 11s 22ms/step - reward: 6.8871 - cumulative_reward: -69.5140\n",
      "471/489 [===========================>..] - ETA: 0s - reward: 6.8393 - cumulative_reward: -200.1039\n",
      "train 32 completed. total_reward: -226.2000000000075 total_profit: 0.8333819868364196\n",
      "min reward: -112.69999999999891, max reward: 168.70000000000164, mean_reward: -0.09236423029808391\n",
      "\n",
      "['loss', 'mean_absolute_error', 'mean_q']\n",
      "starting train 33\n",
      "------------------ new episode begin, environment reset -----------------------------\n",
      "Interval 1.0 (0 steps performed)\n"
     ]
    },
    {
     "name": "stderr",
     "output_type": "stream",
     "text": [
      "C:\\ProgramData\\Anaconda3\\lib\\site-packages\\gym\\logger.py:30: UserWarning: \u001b[33mWARN: Box bound precision lowered by casting to float32\u001b[0m\n",
      "  warnings.warn(colorize('%s: %s'%('WARN', msg % args), 'yellow'))\n"
     ]
    },
    {
     "name": "stdout",
     "output_type": "stream",
     "text": [
      "  1/489 [..............................] - ETA: 18:28 - reward: 0.0000e+00 - cumulative_reward: 0.0000e+00\n",
      "train 33 completed. total_reward: -84.09999999999584 total_profit: 0.9894102662949491\n",
      "min reward: -44.500000000000654, max reward: 23.800000000000487, mean_reward: -2.62812499999987\n",
      "\n",
      "['loss', 'mean_absolute_error', 'mean_q']\n",
      "starting train 34\n",
      "------------------ new episode begin, environment reset -----------------------------\n",
      "Interval 1.0 (0 steps performed)\n"
     ]
    },
    {
     "name": "stderr",
     "output_type": "stream",
     "text": [
      "C:\\ProgramData\\Anaconda3\\lib\\site-packages\\gym\\logger.py:30: UserWarning: \u001b[33mWARN: Box bound precision lowered by casting to float32\u001b[0m\n",
      "  warnings.warn(colorize('%s: %s'%('WARN', msg % args), 'yellow'))\n"
     ]
    },
    {
     "name": "stdout",
     "output_type": "stream",
     "text": [
      "\r",
      "  1/489 [..............................] - ETA: 18:43 - reward: 0.0000e+00 - cumulative_reward: 0.0000e+00"
     ]
    }
   ],
   "source": [
    "from evaluator import Evaluator\n",
    "\n",
    "e = Evaluator(agent_creator, env_creator, name=\"02\")\n",
    "e.train(repeat=100)"
   ]
  },
  {
   "cell_type": "code",
   "execution_count": null,
   "metadata": {},
   "outputs": [],
   "source": []
  }
 ],
 "metadata": {
  "kernelspec": {
   "display_name": "Python 3",
   "language": "python",
   "name": "python3"
  },
  "language_info": {
   "codemirror_mode": {
    "name": "ipython",
    "version": 3
   },
   "file_extension": ".py",
   "mimetype": "text/x-python",
   "name": "python",
   "nbconvert_exporter": "python",
   "pygments_lexer": "ipython3",
   "version": "3.7.3"
  }
 },
 "nbformat": 4,
 "nbformat_minor": 2
}
