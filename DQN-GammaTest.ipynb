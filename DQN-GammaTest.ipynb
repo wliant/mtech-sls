{
 "cells": [
  {
   "cell_type": "code",
   "execution_count": null,
   "metadata": {},
   "outputs": [],
   "source": [
    "import gym\n",
    "import gym_anytrading\n",
    "\n",
    "from gym_anytrading.envs import TradingEnv, ForexEnv, StocksEnv, Actions, Positions \n",
    "from gym_anytrading.datasets import FOREX_EURUSD_1H_ASK, STOCKS_GOOGL\n",
    "import matplotlib.pyplot as plt\n",
    "from keras import applications\n",
    "from keras.models import Sequential, Model\n",
    "from keras.layers import Dense, Activation, Flatten, Dropout, Input, Concatenate, Conv2D\n",
    "from keras.optimizers import Adam\n",
    "\n",
    "from rl.agents.dqn import DQNAgent\n",
    "from rl.agents.ddpg import DDPGAgent\n",
    "from rl.policy import BoltzmannQPolicy, EpsGreedyQPolicy\n",
    "from rl.memory import SequentialMemory\n",
    "from rl.core import Processor\n",
    "from rl.random import OrnsteinUhlenbeckProcess\n",
    "from rl.callbacks import FileLogger, ModelIntervalCheckpoint, TrainIntervalLogger\n",
    "from rl.processors import WhiteningNormalizerProcessor\n",
    "\n",
    "from sklearn import preprocessing\n",
    "import warnings\n",
    "warnings.filterwarnings('ignore')\n",
    "\n",
    "import json\n",
    "import numpy as np"
   ]
  },
  {
   "cell_type": "code",
   "execution_count": null,
   "metadata": {},
   "outputs": [],
   "source": [
    "def env_creator():\n",
    "    return gym.make('forex-v0', frame_bound=(50, 5000), window_size=10)\n",
    "\n",
    "env = env_creator()\n",
    "nb_actions = env.action_space.n\n",
    "\n",
    "def buildModel():\n",
    "    # Next, we build a very simple model.\n",
    "    model = Sequential()\n",
    "\n",
    "    #model.add(Conv2D(input_shape=(1,10,2), filters=32, kernel_size=(4,2), padding='same'))\n",
    "    #model.add(Conv2D(filters=64, kernel_size=(4,2), padding='same'))\n",
    "    #model.add(Conv2D(filters=128, kernel_size=(4,2), padding='same'))\n",
    "    #model.add(Conv2D(filters=128, kernel_size=(4,2), padding='same'))\n",
    "    #model.add(Flatten())\n",
    "    model.add(Flatten(input_shape=(1,10,2)))\n",
    "    model.add(Dense(1024, activation='relu'))\n",
    "    model.add(Dense(1024, activation='relu'))\n",
    "    model.add(Dense(1024, activation='relu'))\n",
    "    model.add(Dense(nb_actions, activation='linear'))\n",
    "    return model\n",
    "buildModel().summary()\n",
    "def agent_creator():\n",
    "    #processor = EnvProcessor()\n",
    "    processor = WhiteningNormalizerProcessor()\n",
    "    memory = SequentialMemory(limit=1024, window_length=1)\n",
    "    policy = EpsGreedyQPolicy()\n",
    "    gamma = 0\n",
    "    #policy = BoltzmannQPolicy()\n",
    "    agent = DQNAgent(model=buildModel(), nb_actions=nb_actions, memory=memory, nb_steps_warmup=128, policy=policy, batch_size=64, processor=processor, \n",
    "                   gamma=gamma, target_model_update=1e-2, train_interval=32, enable_double_dqn=False)\n",
    "    agent.compile(Adam(lr=0.01), metrics=['mae'])\n",
    "    return agent"
   ]
  },
  {
   "cell_type": "code",
   "execution_count": null,
   "metadata": {},
   "outputs": [],
   "source": [
    "from evaluator import Evaluator\n",
    "\n",
    "e = Evaluator(agent_creator, env_creator, name=\"dqn-gamma0\")\n",
    "e.train(repeat=10)\n"
   ]
  },
  {
   "cell_type": "code",
   "execution_count": null,
   "metadata": {
    "scrolled": true
   },
   "outputs": [],
   "source": [
    "e.process_train_result()\n",
    "e.test(gym.make('forex-v0', frame_bound=(5000, 6000), window_size=10))"
   ]
  },
  {
   "cell_type": "code",
   "execution_count": null,
   "metadata": {},
   "outputs": [],
   "source": [
    "def agent_creator():\n",
    "    #processor = EnvProcessor()\n",
    "    processor = WhiteningNormalizerProcessor()\n",
    "    memory = SequentialMemory(limit=1024, window_length=1)\n",
    "    policy = EpsGreedyQPolicy()\n",
    "    gamma = 0.3\n",
    "    #policy = BoltzmannQPolicy()\n",
    "    agent = DQNAgent(model=buildModel(), nb_actions=nb_actions, memory=memory, nb_steps_warmup=128, policy=policy, batch_size=64, processor=processor, \n",
    "                   gamma=gamma, target_model_update=1e-2, train_interval=32, enable_double_dqn=False)\n",
    "    agent.compile(Adam(lr=0.01), metrics=['mae'])\n",
    "    return agent\n",
    "e = Evaluator(agent_creator, env_creator, name=\"dqn-gamma30\")\n",
    "e.train(repeat=10)"
   ]
  },
  {
   "cell_type": "code",
   "execution_count": null,
   "metadata": {},
   "outputs": [],
   "source": [
    "e.process_train_result()\n",
    "e.test(gym.make('forex-v0', frame_bound=(5000, 6000), window_size=10))"
   ]
  },
  {
   "cell_type": "code",
   "execution_count": null,
   "metadata": {},
   "outputs": [],
   "source": [
    "def agent_creator():\n",
    "    #processor = EnvProcessor()\n",
    "    processor = WhiteningNormalizerProcessor()\n",
    "    memory = SequentialMemory(limit=1024, window_length=1)\n",
    "    policy = EpsGreedyQPolicy()\n",
    "    gamma = 0.6\n",
    "    #policy = BoltzmannQPolicy()\n",
    "    agent = DQNAgent(model=buildModel(), nb_actions=nb_actions, memory=memory, nb_steps_warmup=128, policy=policy, batch_size=64, processor=processor, \n",
    "                   gamma=gamma, target_model_update=1e-2, train_interval=32, enable_double_dqn=False)\n",
    "    agent.compile(Adam(lr=0.01), metrics=['mae'])\n",
    "    return agent\n",
    "e = Evaluator(agent_creator, env_creator, name=\"dqn-gamma60\")\n",
    "e.train(repeat=10)"
   ]
  },
  {
   "cell_type": "code",
   "execution_count": null,
   "metadata": {},
   "outputs": [],
   "source": [
    "e.process_train_result()\n",
    "e.test(gym.make('forex-v0', frame_bound=(5000, 6000), window_size=10))"
   ]
  },
  {
   "cell_type": "code",
   "execution_count": null,
   "metadata": {},
   "outputs": [],
   "source": [
    "def agent_creator():\n",
    "    #processor = EnvProcessor()\n",
    "    processor = WhiteningNormalizerProcessor()\n",
    "    memory = SequentialMemory(limit=1024, window_length=1)\n",
    "    policy = EpsGreedyQPolicy()\n",
    "    gamma = 0.8\n",
    "    #policy = BoltzmannQPolicy()\n",
    "    agent = DQNAgent(model=buildModel(), nb_actions=nb_actions, memory=memory, nb_steps_warmup=128, policy=policy, batch_size=64, processor=processor, \n",
    "                   gamma=gamma, target_model_update=1e-2, train_interval=32, enable_double_dqn=False)\n",
    "    agent.compile(Adam(lr=0.01), metrics=['mae'])\n",
    "    return agent\n",
    "e = Evaluator(agent_creator, env_creator, name=\"dqn-gamma80\")\n",
    "e.train(repeat=10)"
   ]
  },
  {
   "cell_type": "code",
   "execution_count": null,
   "metadata": {},
   "outputs": [],
   "source": [
    "e.process_train_result()\n",
    "e.test(gym.make('forex-v0', frame_bound=(5000, 6000), window_size=10))"
   ]
  },
  {
   "cell_type": "code",
   "execution_count": null,
   "metadata": {},
   "outputs": [],
   "source": [
    "def agent_creator():\n",
    "    #processor = EnvProcessor()\n",
    "    processor = WhiteningNormalizerProcessor()\n",
    "    memory = SequentialMemory(limit=1024, window_length=1)\n",
    "    policy = EpsGreedyQPolicy()\n",
    "    gamma = 0.95\n",
    "    #policy = BoltzmannQPolicy()\n",
    "    agent = DQNAgent(model=buildModel(), nb_actions=nb_actions, memory=memory, nb_steps_warmup=128, policy=policy, batch_size=64, processor=processor, \n",
    "                   gamma=gamma, target_model_update=1e-2, train_interval=32, enable_double_dqn=False)\n",
    "    agent.compile(Adam(lr=0.01), metrics=['mae'])\n",
    "    return agent\n",
    "e = Evaluator(agent_creator, env_creator, name=\"dqn-gamma95\")\n",
    "e.train(repeat=10)"
   ]
  },
  {
   "cell_type": "code",
   "execution_count": null,
   "metadata": {},
   "outputs": [],
   "source": [
    "e.process_train_result()\n",
    "e.test(gym.make('forex-v0', frame_bound=(5000, 6000), window_size=10))"
   ]
  },
  {
   "cell_type": "code",
   "execution_count": null,
   "metadata": {},
   "outputs": [],
   "source": [
    "def agent_creator():\n",
    "    #processor = EnvProcessor()\n",
    "    processor = WhiteningNormalizerProcessor()\n",
    "    memory = SequentialMemory(limit=1024, window_length=1)\n",
    "    policy = EpsGreedyQPolicy()\n",
    "    gamma = 1\n",
    "    #policy = BoltzmannQPolicy()\n",
    "    agent = DQNAgent(model=buildModel(), nb_actions=nb_actions, memory=memory, nb_steps_warmup=128, policy=policy, batch_size=64, processor=processor, \n",
    "                   gamma=gamma, target_model_update=1e-2, train_interval=32, enable_double_dqn=False)\n",
    "    agent.compile(Adam(lr=0.01), metrics=['mae'])\n",
    "    return agent\n",
    "e = Evaluator(agent_creator, env_creator, name=\"dqn-gamma100\")\n",
    "e.train(repeat=10)"
   ]
  },
  {
   "cell_type": "code",
   "execution_count": null,
   "metadata": {},
   "outputs": [],
   "source": [
    "e.process_train_result()\n",
    "e.test(gym.make('forex-v0', frame_bound=(5000, 6000), window_size=10))"
   ]
  },
  {
   "cell_type": "code",
   "execution_count": null,
   "metadata": {},
   "outputs": [],
   "source": [
    "#base line random policy\n",
    "\n",
    "data = []\n",
    "env = env_creator()\n",
    "\n",
    "observation = env.reset()\n",
    "t = 0\n",
    "while True:\n",
    "    action = env.action_space.sample()\n",
    "    observation, reward, done, info = env.step(action)\n",
    "    data.append([t, reward, env._total_reward])\n",
    "    t+=1\n",
    "    # env.render()\n",
    "    if done:\n",
    "        print(\"info:\", info)\n",
    "        break\n",
    "\n",
    "plt.cla()\n",
    "env.render_all()\n",
    "plt.show()\n",
    "plt.close()\n",
    "plt.plot(data[:, [0]], data[:, [2]])\n",
    "plt.xlabel('steps')\n",
    "plt.ylabel('Cummulative Reward')\n",
    "plt.show()"
   ]
  }
 ],
 "metadata": {
  "kernelspec": {
   "display_name": "Python 3",
   "language": "python",
   "name": "python3"
  },
  "language_info": {
   "codemirror_mode": {
    "name": "ipython",
    "version": 3
   },
   "file_extension": ".py",
   "mimetype": "text/x-python",
   "name": "python",
   "nbconvert_exporter": "python",
   "pygments_lexer": "ipython3",
   "version": "3.7.7"
  }
 },
 "nbformat": 4,
 "nbformat_minor": 4
}
