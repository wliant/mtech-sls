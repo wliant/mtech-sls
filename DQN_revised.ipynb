{
 "cells": [
  {
   "cell_type": "code",
   "execution_count": 1,
   "metadata": {},
   "outputs": [
    {
     "name": "stderr",
     "output_type": "stream",
     "text": [
      "Using TensorFlow backend.\n"
     ]
    }
   ],
   "source": [
    "#gym imports\n",
    "import gym\n",
    "import gym_anytrading\n",
    "\n",
    "#keras imports\n",
    "from keras.models import model_from_json\n",
    "from keras.models import Sequential\n",
    "from keras.layers.core import Dense, Dropout, Activation, Flatten\n",
    "from keras.layers.convolutional import Conv2D, MaxPooling2D\n",
    "from keras.optimizers import SGD , Adam\n",
    "from keras.callbacks import TensorBoard\n",
    "from collections import deque\n",
    "import random\n",
    "import pickle\n",
    "\n",
    "from rl.agents.dqn import DQNAgent\n",
    "from rl.policy import BoltzmannQPolicy\n",
    "from rl.memory import SequentialMemory\n",
    "from rl.agents.dqn import DQNAgent\n",
    "from rl.agents.ddpg import DDPGAgent\n",
    "from rl.policy import BoltzmannQPolicy, EpsGreedyQPolicy,MaxBoltzmannQPolicy,LinearAnnealedPolicy\n",
    "from rl.memory import SequentialMemory\n",
    "from rl.core import Processor\n",
    "from rl.random import OrnsteinUhlenbeckProcess\n",
    "from rl.callbacks import FileLogger, ModelIntervalCheckpoint, TrainEpisodeLogger\n",
    "\n",
    "#import misc\n",
    "import numpy as np\n",
    "import pandas as pd\n",
    "import matplotlib.pyplot as plt\n",
    "import os\n",
    "\n",
    "from sklearn import preprocessing"
   ]
  },
  {
   "cell_type": "code",
   "execution_count": 2,
   "metadata": {},
   "outputs": [
    {
     "name": "stderr",
     "output_type": "stream",
     "text": [
      "C:\\ProgramData\\Anaconda3\\lib\\site-packages\\gym\\logger.py:30: UserWarning: \u001b[33mWARN: Box bound precision lowered by casting to float32\u001b[0m\n",
      "  warnings.warn(colorize('%s: %s'%('WARN', msg % args), 'yellow'))\n"
     ]
    },
    {
     "data": {
      "image/png": "[encoded data removed]",
      "text/plain": [
       "<Figure size 432x288 with 1 Axes>"
      ]
     },
     "metadata": {
      "needs_background": "light"
     },
     "output_type": "display_data"
    }
   ],
   "source": [
    "env = gym.make('forex-v0', frame_bound=(50, 2000), window_size=10)\n",
    "env.reset()\n",
    "env.render()"
   ]
  },
  {
   "cell_type": "code",
   "execution_count": 3,
   "metadata": {},
   "outputs": [
    {
     "data": {
      "text/plain": [
       "2"
      ]
     },
     "execution_count": 3,
     "metadata": {},
     "output_type": "execute_result"
    }
   ],
   "source": [
    "nb_actions = env.action_space.n\n",
    "nb_actions"
   ]
  },
  {
   "cell_type": "code",
   "execution_count": 4,
   "metadata": {},
   "outputs": [],
   "source": [
    "class FileEpisodeLogger(TrainEpisodeLogger):\n",
    "    def __init__(self, filepath):\n",
    "        TrainEpisodeLogger.__init__(self)\n",
    "        self.filepath = filepath\n",
    "        \n",
    "    def on_episode_end(self, episode, logs):\n",
    "        episode_steps = len(self.observations[episode])\n",
    "        variables = [episode+1, episode_steps, np.sum(self.rewards[episode]), np.mean(self.rewards[episode]), np.mean(self.actions[episode])]\n",
    "        row = ''\n",
    "        for var in variables:\n",
    "            row += '{},'.format(var)\n",
    "        # Overwrite already open file. We can simply seek to the beginning since the file will\n",
    "        # grow strictly monotonously.\n",
    "        with open(self.filepath,'a') as fd:\n",
    "            fd.write(row[:-1] + '\\n')"
   ]
  },
  {
   "cell_type": "code",
   "execution_count": 5,
   "metadata": {},
   "outputs": [],
   "source": [
    "class EnvProcessor(Processor):\n",
    "    def process_observation(self, observation):\n",
    "        assert observation.ndim == 2  # (height, width, channel)\n",
    "        return self.process_obs_1(observation)\n",
    "    \n",
    "    def process_obs_1(self, observation):\n",
    "        prices = []\n",
    "        diff = []\n",
    "        for o in observation:\n",
    "            prices.append(o[0])\n",
    "            diff.append(o[1])\n",
    "        prices = preprocessing.normalize([prices], norm='l2', axis=1, copy=True, return_norm=False)[0]\n",
    "        diff = preprocessing.normalize([diff], norm='l2', axis=1, copy=True, return_norm=False)[0]\n",
    "        new_obs = np.column_stack((prices, diff))\n",
    "        return new_obs\n",
    "    \n",
    "    def process_obs_2(self, observation):\n",
    "        prices = []\n",
    "        diff = []\n",
    "        for o in observation:\n",
    "            prices.append(o[0])\n",
    "            diff.append(o[1] / o[0] * 100)\n",
    "        prices = preprocessing.normalize([prices], norm='l2', axis=1, copy=True, return_norm=False)[0]\n",
    "        new_obs = np.column_stack((prices, diff))\n",
    "        return new_obs\n",
    "        \n",
    "    def process_state_batch(self, batch):\n",
    "#         print(batch)\n",
    "        return batch\n",
    "\n",
    "    def process_reward(self, reward):\n",
    "        return reward"
   ]
  },
  {
   "cell_type": "code",
   "execution_count": 6,
   "metadata": {},
   "outputs": [],
   "source": [
    "class CustomEpsGreedyQPolicy(EpsGreedyQPolicy):\n",
    "    def __init__(self, eps=0.1, update_interval=100):\n",
    "        EpsGreedyQPolicy.__init__(self, eps)\n",
    "        self.update_interval = update_interval\n",
    "        self.count = 0\n",
    "        self.init_eps = self.eps\n",
    "        \n",
    "    def select_action(self, q_values):\n",
    "        assert q_values.ndim == 1\n",
    "        nb_actions = q_values.shape[0]\n",
    "\n",
    "        if np.random.uniform() < self.eps:\n",
    "            action = np.random.randint(0, nb_actions)\n",
    "        else:\n",
    "            action = np.argmax(q_values)\n",
    "        self.count += 1\n",
    "        if (self.count % self.update_interval) == 0:\n",
    "            self.eps = self.init_eps / (self.count / self.update_interval)\n",
    "            print(self.eps)\n",
    "        return action"
   ]
  },
  {
   "cell_type": "markdown",
   "metadata": {},
   "source": [
    "# Models"
   ]
  },
  {
   "cell_type": "code",
   "execution_count": 7,
   "metadata": {},
   "outputs": [],
   "source": [
    "def buildmodelA():\n",
    "    model = Sequential()\n",
    "    model.add(Flatten(input_shape=(1,) + env.observation_space.shape))\n",
    "    model.add(Dropout(0.2))\n",
    "    model.add(Dense(32))\n",
    "    model.add(Activation('relu'))\n",
    "    model.add(Dropout(0.2))\n",
    "    model.add(Dense(16))\n",
    "    model.add(Activation('relu'))\n",
    "    model.add(Dense(nb_actions))\n",
    "    model.add(Activation('softmax'))   \n",
    "    return model"
   ]
  },
  {
   "cell_type": "code",
   "execution_count": 8,
   "metadata": {},
   "outputs": [],
   "source": [
    "def buildmodelB():\n",
    "    model = Sequential()\n",
    "    model.add(Flatten(input_shape=(1,) + env.observation_space.shape))\n",
    "    model.add(Dropout(0.2))\n",
    "    model.add(Dense(64))\n",
    "    model.add(Activation('relu'))\n",
    "    model.add(Dropout(0.2))\n",
    "    model.add(Dense(128))\n",
    "    model.add(Activation('relu'))\n",
    "    model.add(Dropout(0.2))\n",
    "    model.add(Dense(128))\n",
    "    model.add(Activation('relu'))\n",
    "    model.add(Dropout(0.2))\n",
    "    model.add(Dense(64))\n",
    "    model.add(Activation('relu'))\n",
    "    model.add(Dropout(0.2))\n",
    "    model.add(Dense(nb_actions))\n",
    "    model.add(Activation('softmax'))   \n",
    "    return model"
   ]
  },
  {
   "cell_type": "markdown",
   "metadata": {},
   "source": [
    "# Model/Parameter Selection "
   ]
  },
  {
   "cell_type": "code",
   "execution_count": 9,
   "metadata": {},
   "outputs": [
    {
     "name": "stdout",
     "output_type": "stream",
     "text": [
      "WARNING:tensorflow:From C:\\ProgramData\\Anaconda3\\lib\\site-packages\\tensorflow\\python\\ops\\control_flow_ops.py:423: colocate_with (from tensorflow.python.framework.ops) is deprecated and will be removed in a future version.\n",
      "Instructions for updating:\n",
      "Colocations handled automatically by placer.\n",
      "WARNING:tensorflow:From C:\\ProgramData\\Anaconda3\\lib\\site-packages\\keras\\backend\\tensorflow_backend.py:3445: calling dropout (from tensorflow.python.ops.nn_ops) with keep_prob is deprecated and will be removed in a future version.\n",
      "Instructions for updating:\n",
      "Please use `rate` instead of `keep_prob`. Rate should be set to `rate = 1 - keep_prob`.\n"
     ]
    }
   ],
   "source": [
    "parameter_set=\"09\"\n",
    "PROCESSOR = EnvProcessor()\n",
    "#NN\n",
    "LEARNING_RATE = 0.01\n",
    "##Policy\n",
    "POLICY = LinearAnnealedPolicy(EpsGreedyQPolicy(), attr='eps', value_max=1., value_min=.1, value_test=.05, nb_steps=10000)\n",
    "#POLICY =MaxBoltzmannQPolicy()\n",
    "#POLICY = BoltzmannQPolicy()\n",
    "#POLICY =CustomEpsGreedyQPolicy(update_interval = 2500, eps = 1.0)\n",
    "#Memory\n",
    "MEMORY = SequentialMemory(limit=100000, window_length=1)\n",
    "#Model\n",
    "MODEL = buildmodelA()\n",
    "# timesteps to observe before training\n",
    "OBSERVATION = 20 \n",
    "#Discount Factor\n",
    "GAMMA = 0.9 # decay rate of past observations original 0.99\n",
    "#game parameters\n",
    "TRAIN_INTERVAL = 32\n",
    "#Size of Minibatch\n",
    "BATCH_SIZE = 64 "
   ]
  },
  {
   "cell_type": "markdown",
   "metadata": {},
   "source": [
    "# DQN"
   ]
  },
  {
   "cell_type": "code",
   "execution_count": 10,
   "metadata": {
    "colab": {},
    "colab_type": "code",
    "id": "4lWtbLqvlxSj"
   },
   "outputs": [],
   "source": [
    "weights_filename = 'dqn_weights_{}.h5f'.format(parameter_set)\n",
    "checkpoint_weights_filename = 'dqn_weights_{step}_'+'{}.h5f'.format(parameter_set)\n",
    "log_filename = './Log/dqn_log_{}.csv'.format(parameter_set)\n",
    "callbacks = [ModelIntervalCheckpoint(checkpoint_weights_filename, interval=250000)]\n",
    "callbacks += [FileEpisodeLogger(log_filename)]"
   ]
  },
  {
   "cell_type": "code",
   "execution_count": 11,
   "metadata": {
    "colab": {},
    "colab_type": "code",
    "id": "B075IgMxlxSl"
   },
   "outputs": [],
   "source": [
    "agent = DQNAgent(model=MODEL, nb_actions=nb_actions, memory=MEMORY, nb_steps_warmup=OBSERVATION\n",
    "               ,policy=POLICY, batch_size=BATCH_SIZE, processor=PROCESSOR,\n",
    "               train_interval=TRAIN_INTERVAL,enable_double_dqn=False)\n",
    "#,enable_double_dqn=True\n",
    "agent.compile(Adam(lr=LEARNING_RATE), metrics=['mse'])"
   ]
  },
  {
   "cell_type": "markdown",
   "metadata": {},
   "source": [
    "## Fit Model"
   ]
  },
  {
   "cell_type": "code",
   "execution_count": null,
   "metadata": {
    "colab": {},
    "colab_type": "code",
    "id": "JuSDk4qolxSr",
    "outputId": "0c0cc6ef-3b14-405d-cf2d-41db9e707760"
   },
   "outputs": [
    {
     "name": "stdout",
     "output_type": "stream",
     "text": [
      "Training for 1000000 steps ...\n",
      "Training for 1000000 steps ...\n",
      "   1949/1000000: episode: 1, duration: 1.189s, episode steps: 1949, steps per second: 1639, episode reward: 346.000, mean reward: 0.178 [-63.700, 168.700], mean action: 0.504 [0.000, 1.000], mean observation: 0.157 [-0.973, 0.985], loss: 58.670363, mean_squared_error: 58.797340, mean_q: 0.998477, mean_eps: 0.912160\n",
      "   3898/1000000: episode: 2, duration: 1.058s, episode steps: 1949, steps per second: 1842, episode reward: 273.600, mean reward: 0.140 [-65.900, 203.400], mean action: 0.534 [0.000, 1.000], mean observation: 0.157 [-0.973, 0.985], loss: 65.918086, mean_squared_error: 66.049737, mean_q: 0.998568, mean_eps: 0.737920\n",
      "   5847/1000000: episode: 3, duration: 1.007s, episode steps: 1949, steps per second: 1935, episode reward: 282.300, mean reward: 0.145 [-65.900, 204.400], mean action: 0.521 [0.000, 1.000], mean observation: 0.157 [-0.973, 0.985], loss: 64.459180, mean_squared_error: 64.583229, mean_q: 0.999008, mean_eps: 0.562240\n",
      "   7796/1000000: episode: 4, duration: 1.063s, episode steps: 1949, steps per second: 1833, episode reward: 200.500, mean reward: 0.103 [-84.600, 195.200], mean action: 0.502 [0.000, 1.000], mean observation: 0.157 [-0.973, 0.985], loss: 57.590759, mean_squared_error: 57.725503, mean_q: 0.999095, mean_eps: 0.386560\n",
      "   9745/1000000: episode: 5, duration: 1.139s, episode steps: 1949, steps per second: 1710, episode reward: 8.400, mean reward: 0.004 [-110.900, 72.500], mean action: 0.485 [0.000, 1.000], mean observation: 0.157 [-0.973, 0.985], loss: 50.994091, mean_squared_error: 51.127026, mean_q: 0.998716, mean_eps: 0.210880\n",
      "  11694/1000000: episode: 6, duration: 1.166s, episode steps: 1949, steps per second: 1671, episode reward: 423.600, mean reward: 0.217 [-75.500, 195.200], mean action: 0.488 [0.000, 1.000], mean observation: 0.157 [-0.973, 0.985], loss: 55.395822, mean_squared_error: 55.529577, mean_q: 0.998951, mean_eps: 0.101511\n",
      "  13643/1000000: episode: 7, duration: 1.144s, episode steps: 1949, steps per second: 1703, episode reward: 349.700, mean reward: 0.179 [-63.600, 195.200], mean action: 0.563 [0.000, 1.000], mean observation: 0.157 [-0.973, 0.985], loss: 52.299925, mean_squared_error: 52.430083, mean_q: 0.998478, mean_eps: 0.100000\n",
      "  15592/1000000: episode: 8, duration: 1.305s, episode steps: 1949, steps per second: 1494, episode reward: 895.000, mean reward: 0.459 [-73.900, 204.400], mean action: 0.514 [0.000, 1.000], mean observation: 0.157 [-0.973, 0.985], loss: 56.586436, mean_squared_error: 56.717438, mean_q: 0.998773, mean_eps: 0.100000\n",
      "  17541/1000000: episode: 9, duration: 1.202s, episode steps: 1949, steps per second: 1621, episode reward: 346.900, mean reward: 0.178 [-75.500, 192.900], mean action: 0.598 [0.000, 1.000], mean observation: 0.157 [-0.973, 0.985], loss: 58.865070, mean_squared_error: 58.996322, mean_q: 0.998977, mean_eps: 0.100000\n",
      "  19490/1000000: episode: 10, duration: 1.022s, episode steps: 1949, steps per second: 1907, episode reward: 329.900, mean reward: 0.169 [-101.100, 185.100], mean action: 0.632 [0.000, 1.000], mean observation: 0.157 [-0.973, 0.985], loss: 58.766487, mean_squared_error: 58.913355, mean_q: 0.999166, mean_eps: 0.100000\n",
      "  21439/1000000: episode: 11, duration: 1.049s, episode steps: 1949, steps per second: 1858, episode reward: 489.000, mean reward: 0.251 [-73.900, 192.900], mean action: 0.592 [0.000, 1.000], mean observation: 0.157 [-0.973, 0.985], loss: 55.193408, mean_squared_error: 55.325033, mean_q: 0.998780, mean_eps: 0.100000\n",
      "  23388/1000000: episode: 12, duration: 1.023s, episode steps: 1949, steps per second: 1905, episode reward: 846.100, mean reward: 0.434 [-65.900, 195.200], mean action: 0.527 [0.000, 1.000], mean observation: 0.157 [-0.973, 0.985], loss: 48.010673, mean_squared_error: 48.130016, mean_q: 0.998669, mean_eps: 0.100000\n",
      "  25337/1000000: episode: 13, duration: 1.031s, episode steps: 1949, steps per second: 1890, episode reward: 763.500, mean reward: 0.392 [-79.900, 195.200], mean action: 0.499 [0.000, 1.000], mean observation: 0.157 [-0.973, 0.985], loss: 68.740735, mean_squared_error: 68.864062, mean_q: 0.998982, mean_eps: 0.100000\n",
      "  27286/1000000: episode: 14, duration: 1.025s, episode steps: 1949, steps per second: 1902, episode reward: 310.700, mean reward: 0.159 [-78.800, 195.200], mean action: 0.481 [0.000, 1.000], mean observation: 0.157 [-0.973, 0.985], loss: 58.145891, mean_squared_error: 58.270981, mean_q: 0.998554, mean_eps: 0.100000\n",
      "  29235/1000000: episode: 15, duration: 1.030s, episode steps: 1949, steps per second: 1892, episode reward: 244.100, mean reward: 0.125 [-78.300, 195.200], mean action: 0.571 [0.000, 1.000], mean observation: 0.157 [-0.973, 0.985], loss: 58.192842, mean_squared_error: 58.319595, mean_q: 0.999408, mean_eps: 0.100000\n",
      "  31184/1000000: episode: 16, duration: 1.007s, episode steps: 1949, steps per second: 1936, episode reward: 440.700, mean reward: 0.226 [-74.100, 195.200], mean action: 0.591 [0.000, 1.000], mean observation: 0.157 [-0.973, 0.985], loss: 57.812926, mean_squared_error: 57.943742, mean_q: 0.999168, mean_eps: 0.100000\n",
      "  33133/1000000: episode: 17, duration: 1.024s, episode steps: 1949, steps per second: 1904, episode reward: 378.700, mean reward: 0.194 [-65.900, 204.400], mean action: 0.546 [0.000, 1.000], mean observation: 0.157 [-0.973, 0.985], loss: 60.815980, mean_squared_error: 60.941681, mean_q: 0.998768, mean_eps: 0.100000\n",
      "  35082/1000000: episode: 18, duration: 1.487s, episode steps: 1949, steps per second: 1311, episode reward: 316.700, mean reward: 0.162 [-78.300, 181.000], mean action: 0.560 [0.000, 1.000], mean observation: 0.157 [-0.973, 0.985], loss: 53.833259, mean_squared_error: 53.967557, mean_q: 0.998907, mean_eps: 0.100000\n",
      "  37031/1000000: episode: 19, duration: 1.890s, episode steps: 1949, steps per second: 1031, episode reward: 245.300, mean reward: 0.126 [-63.200, 195.200], mean action: 0.593 [0.000, 1.000], mean observation: 0.157 [-0.973, 0.985], loss: 60.809789, mean_squared_error: 60.926495, mean_q: 0.999387, mean_eps: 0.100000\n",
      "  38980/1000000: episode: 20, duration: 1.477s, episode steps: 1949, steps per second: 1319, episode reward: 484.800, mean reward: 0.249 [-72.600, 174.500], mean action: 0.691 [0.000, 1.000], mean observation: 0.157 [-0.973, 0.985], loss: 62.258072, mean_squared_error: 62.407001, mean_q: 0.999120, mean_eps: 0.100000\n",
      "  40929/1000000: episode: 21, duration: 1.445s, episode steps: 1949, steps per second: 1349, episode reward: 707.900, mean reward: 0.363 [-82.000, 178.700], mean action: 0.766 [0.000, 1.000], mean observation: 0.157 [-0.973, 0.985], loss: 56.421819, mean_squared_error: 56.584334, mean_q: 0.999168, mean_eps: 0.100000\n",
      "  42878/1000000: episode: 22, duration: 1.230s, episode steps: 1949, steps per second: 1585, episode reward: 320.900, mean reward: 0.165 [-95.300, 168.700], mean action: 0.713 [0.000, 1.000], mean observation: 0.157 [-0.973, 0.985], loss: 53.183214, mean_squared_error: 53.337440, mean_q: 0.998753, mean_eps: 0.100000\n",
      "  44827/1000000: episode: 23, duration: 1.047s, episode steps: 1949, steps per second: 1862, episode reward: 290.900, mean reward: 0.149 [-75.500, 192.900], mean action: 0.685 [0.000, 1.000], mean observation: 0.157 [-0.973, 0.985], loss: 60.037174, mean_squared_error: 60.183360, mean_q: 0.999062, mean_eps: 0.100000\n",
      "  46776/1000000: episode: 24, duration: 1.008s, episode steps: 1949, steps per second: 1933, episode reward: 474.900, mean reward: 0.244 [-71.900, 176.500], mean action: 0.694 [0.000, 1.000], mean observation: 0.157 [-0.973, 0.985], loss: 55.386177, mean_squared_error: 55.534374, mean_q: 0.999669, mean_eps: 0.100000\n",
      "  48725/1000000: episode: 25, duration: 1.012s, episode steps: 1949, steps per second: 1925, episode reward: 89.700, mean reward: 0.046 [-72.600, 192.900], mean action: 0.685 [0.000, 1.000], mean observation: 0.157 [-0.973, 0.985], loss: 64.314324, mean_squared_error: 64.456377, mean_q: 0.999089, mean_eps: 0.100000\n",
      "  50674/1000000: episode: 26, duration: 1.025s, episode steps: 1949, steps per second: 1901, episode reward: 387.600, mean reward: 0.199 [-82.600, 192.900], mean action: 0.654 [0.000, 1.000], mean observation: 0.157 [-0.973, 0.985], loss: 51.041557, mean_squared_error: 51.174395, mean_q: 0.998882, mean_eps: 0.100000\n"
     ]
    },
    {
     "name": "stdout",
     "output_type": "stream",
     "text": [
      "  52623/1000000: episode: 27, duration: 1.031s, episode steps: 1949, steps per second: 1890, episode reward: 515.700, mean reward: 0.265 [-78.000, 192.900], mean action: 0.620 [0.000, 1.000], mean observation: 0.157 [-0.973, 0.985], loss: 59.138559, mean_squared_error: 59.268498, mean_q: 0.998889, mean_eps: 0.100000\n",
      "  54572/1000000: episode: 28, duration: 1.003s, episode steps: 1949, steps per second: 1944, episode reward: 499.900, mean reward: 0.256 [-65.900, 195.200], mean action: 0.509 [0.000, 1.000], mean observation: 0.157 [-0.973, 0.985], loss: 67.578425, mean_squared_error: 67.702754, mean_q: 0.998861, mean_eps: 0.100000\n",
      "  56521/1000000: episode: 29, duration: 1.002s, episode steps: 1949, steps per second: 1946, episode reward: 853.900, mean reward: 0.438 [-79.800, 168.700], mean action: 0.462 [0.000, 1.000], mean observation: 0.157 [-0.973, 0.985], loss: 54.165314, mean_squared_error: 54.297170, mean_q: 0.998936, mean_eps: 0.100000\n",
      "  58470/1000000: episode: 30, duration: 1.000s, episode steps: 1949, steps per second: 1950, episode reward: 888.500, mean reward: 0.456 [-73.900, 181.000], mean action: 0.509 [0.000, 1.000], mean observation: 0.157 [-0.973, 0.985], loss: 57.678441, mean_squared_error: 57.798188, mean_q: 0.999014, mean_eps: 0.100000\n",
      "  60419/1000000: episode: 31, duration: 1.688s, episode steps: 1949, steps per second: 1155, episode reward: 678.500, mean reward: 0.348 [-87.100, 195.200], mean action: 0.496 [0.000, 1.000], mean observation: 0.157 [-0.973, 0.985], loss: 55.367301, mean_squared_error: 55.486776, mean_q: 0.999222, mean_eps: 0.100000\n",
      "  62368/1000000: episode: 32, duration: 2.556s, episode steps: 1949, steps per second: 763, episode reward: 589.700, mean reward: 0.303 [-106.600, 195.200], mean action: 0.458 [0.000, 1.000], mean observation: 0.157 [-0.973, 0.985], loss: 61.427186, mean_squared_error: 61.552693, mean_q: 0.999106, mean_eps: 0.100000\n",
      "  64317/1000000: episode: 33, duration: 1.627s, episode steps: 1949, steps per second: 1198, episode reward: 518.100, mean reward: 0.266 [-78.100, 195.200], mean action: 0.523 [0.000, 1.000], mean observation: 0.157 [-0.973, 0.985], loss: 61.828533, mean_squared_error: 61.955715, mean_q: 0.999135, mean_eps: 0.100000\n",
      "  66266/1000000: episode: 34, duration: 1.625s, episode steps: 1949, steps per second: 1199, episode reward: 751.900, mean reward: 0.386 [-73.900, 195.200], mean action: 0.524 [0.000, 1.000], mean observation: 0.157 [-0.973, 0.985], loss: 54.217350, mean_squared_error: 54.342246, mean_q: 0.998895, mean_eps: 0.100000\n",
      "  68215/1000000: episode: 35, duration: 1.305s, episode steps: 1949, steps per second: 1494, episode reward: 698.500, mean reward: 0.358 [-82.100, 195.200], mean action: 0.467 [0.000, 1.000], mean observation: 0.157 [-0.973, 0.985], loss: 69.405255, mean_squared_error: 69.540636, mean_q: 0.999152, mean_eps: 0.100000\n",
      "  70164/1000000: episode: 36, duration: 0.996s, episode steps: 1949, steps per second: 1956, episode reward: 1111.400, mean reward: 0.570 [-65.900, 168.700], mean action: 0.445 [0.000, 1.000], mean observation: 0.157 [-0.973, 0.985], loss: 62.158811, mean_squared_error: 62.286456, mean_q: 0.999097, mean_eps: 0.100000\n",
      "  72113/1000000: episode: 37, duration: 0.998s, episode steps: 1949, steps per second: 1952, episode reward: 622.700, mean reward: 0.319 [-168.700, 122.800], mean action: 0.377 [0.000, 1.000], mean observation: 0.157 [-0.973, 0.985], loss: 59.564395, mean_squared_error: 59.697777, mean_q: 0.999049, mean_eps: 0.100000\n",
      "  74062/1000000: episode: 38, duration: 1.003s, episode steps: 1949, steps per second: 1943, episode reward: 1041.700, mean reward: 0.534 [-76.900, 195.200], mean action: 0.447 [0.000, 1.000], mean observation: 0.157 [-0.973, 0.985], loss: 47.443489, mean_squared_error: 47.572882, mean_q: 0.999341, mean_eps: 0.100000\n",
      "  76011/1000000: episode: 39, duration: 1.000s, episode steps: 1949, steps per second: 1948, episode reward: 1098.700, mean reward: 0.564 [-123.100, 195.200], mean action: 0.462 [0.000, 1.000], mean observation: 0.157 [-0.973, 0.985], loss: 67.517247, mean_squared_error: 67.647969, mean_q: 0.999176, mean_eps: 0.100000\n",
      "  77960/1000000: episode: 40, duration: 2.181s, episode steps: 1949, steps per second: 894, episode reward: 676.500, mean reward: 0.347 [-138.600, 84.600], mean action: 0.396 [0.000, 1.000], mean observation: 0.157 [-0.973, 0.985], loss: 73.727878, mean_squared_error: 73.858846, mean_q: 0.998607, mean_eps: 0.100000\n",
      "  79909/1000000: episode: 41, duration: 1.837s, episode steps: 1949, steps per second: 1061, episode reward: 831.700, mean reward: 0.427 [-158.400, 129.900], mean action: 0.315 [0.000, 1.000], mean observation: 0.157 [-0.973, 0.985], loss: 70.145050, mean_squared_error: 70.294813, mean_q: 0.999744, mean_eps: 0.100000\n",
      "  81858/1000000: episode: 42, duration: 1.264s, episode steps: 1949, steps per second: 1542, episode reward: 327.500, mean reward: 0.168 [-142.900, 104.500], mean action: 0.318 [0.000, 1.000], mean observation: 0.157 [-0.973, 0.985], loss: 61.521855, mean_squared_error: 61.666707, mean_q: 0.999006, mean_eps: 0.100000\n",
      "  83807/1000000: episode: 43, duration: 1.121s, episode steps: 1949, steps per second: 1739, episode reward: 129.400, mean reward: 0.066 [-156.500, 104.500], mean action: 0.194 [0.000, 1.000], mean observation: 0.157 [-0.973, 0.985], loss: 85.357940, mean_squared_error: 85.542419, mean_q: 0.999753, mean_eps: 0.100000\n",
      "  85756/1000000: episode: 44, duration: 1.028s, episode steps: 1949, steps per second: 1896, episode reward: -407.700, mean reward: -0.209 [-175.400, 65.400], mean action: 0.178 [0.000, 1.000], mean observation: 0.157 [-0.973, 0.985], loss: 59.454027, mean_squared_error: 59.642260, mean_q: 0.999227, mean_eps: 0.100000\n",
      "  87705/1000000: episode: 45, duration: 1.122s, episode steps: 1949, steps per second: 1737, episode reward: 205.900, mean reward: 0.106 [-159.400, 104.500], mean action: 0.234 [0.000, 1.000], mean observation: 0.157 [-0.973, 0.985], loss: 51.285616, mean_squared_error: 51.454160, mean_q: 0.998914, mean_eps: 0.100000\n",
      "  89654/1000000: episode: 46, duration: 1.019s, episode steps: 1949, steps per second: 1912, episode reward: 701.300, mean reward: 0.360 [-159.400, 104.500], mean action: 0.224 [0.000, 1.000], mean observation: 0.157 [-0.973, 0.985], loss: 49.221441, mean_squared_error: 49.397748, mean_q: 0.999552, mean_eps: 0.100000\n"
     ]
    }
   ],
   "source": [
    "agent.fit(env, nb_steps=1000000, callbacks=callbacks, visualize=False, verbose=2)\n",
    "agent.save_weights('./Model/dqn_{}_weights.h5f'.format(parameter_set), overwrite=True)"
   ]
  },
  {
   "cell_type": "markdown",
   "metadata": {
    "colab_type": "text",
    "id": "vQDahxAAlxSt"
   },
   "source": [
    "## Test"
   ]
  },
  {
   "cell_type": "code",
   "execution_count": null,
   "metadata": {
    "colab": {},
    "colab_type": "code",
    "id": "hMZwWP-5lxSt"
   },
   "outputs": [],
   "source": [
    "agent.load_weights('./Model/dqn_{}_weights.h5f'.format(parameter_set))"
   ]
  },
  {
   "cell_type": "code",
   "execution_count": null,
   "metadata": {
    "colab": {},
    "colab_type": "code",
    "id": "M-oQDH82lxSv",
    "outputId": "4a1a6df8-7a62-4c11-8306-c4029d90a4b9"
   },
   "outputs": [],
   "source": [
    "env_test = gym.make('forex-v0', frame_bound=(50,2000), window_size=10)\n",
    "env_test.trade_fee = 0\n",
    "env_test.reset()"
   ]
  },
  {
   "cell_type": "code",
   "execution_count": null,
   "metadata": {
    "colab": {},
    "colab_type": "code",
    "id": "LPUQ4tMClxSx",
    "outputId": "3f679f99-3611-4171-ad7f-42d88a9d7545"
   },
   "outputs": [],
   "source": [
    "agent.test(env_test,visualize=False)"
   ]
  },
  {
   "cell_type": "code",
   "execution_count": null,
   "metadata": {
    "colab": {},
    "colab_type": "code",
    "id": "ixsBbybplxSz",
    "outputId": "c615593a-83ea-44b2-b1bf-96c4b4885866"
   },
   "outputs": [],
   "source": [
    "print(env_test.max_possible_profit())\n",
    "plt.cla()\n",
    "env_test.render_all()\n",
    "plt.show()"
   ]
  },
  {
   "cell_type": "markdown",
   "metadata": {
    "colab_type": "text",
    "id": "tAGk3fIYlxS1"
   },
   "source": [
    "## Plot Train Graph"
   ]
  },
  {
   "cell_type": "code",
   "execution_count": null,
   "metadata": {
    "colab": {},
    "colab_type": "code",
    "id": "pdLCWDTRlxS1",
    "outputId": "406fb15f-a1c7-4c16-fb07-98bfc4eee7e5"
   },
   "outputs": [],
   "source": [
    "csv_data = pd.read_csv('./Log/dqn_log_{}.csv'.format(parameter_set), delimiter=',', header=None)\n",
    "plt.plot(csv_data[0],csv_data[2])"
   ]
  },
  {
   "cell_type": "code",
   "execution_count": null,
   "metadata": {
    "colab": {},
    "colab_type": "code",
    "id": "b9-fE6WalxS4"
   },
   "outputs": [],
   "source": []
  }
 ],
 "metadata": {
  "colab": {
   "name": "modelling.ipynb",
   "provenance": []
  },
  "kernelspec": {
   "display_name": "Python 3",
   "language": "python",
   "name": "python3"
  },
  "language_info": {
   "codemirror_mode": {
    "name": "ipython",
    "version": 3
   },
   "file_extension": ".py",
   "mimetype": "text/x-python",
   "name": "python",
   "nbconvert_exporter": "python",
   "pygments_lexer": "ipython3",
   "version": "3.7.3"
  }
 },
 "nbformat": 4,
 "nbformat_minor": 1
}
