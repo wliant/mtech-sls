{
 "cells": [
  {
   "cell_type": "code",
   "execution_count": 5,
   "metadata": {},
   "outputs": [],
   "source": [
    "import gym\n",
    "import gym_anytrading\n",
    "\n",
    "from gym_anytrading.envs import TradingEnv, ForexEnv, StocksEnv, Actions, Positions \n",
    "from gym_anytrading.datasets import FOREX_EURUSD_1H_ASK, STOCKS_GOOGL\n",
    "import matplotlib.pyplot as plt\n",
    "from keras import applications\n",
    "from keras.models import Sequential, Model\n",
    "from keras.layers import Dense, Activation, Flatten, Dropout, Input, Concatenate, Conv2D, Permute, BatchNormalization\n",
    "from keras.optimizers import Adam\n",
    "\n",
    "from rl.agents.dqn import DQNAgent\n",
    "from rl.agents.ddpg import DDPGAgent\n",
    "from rl.policy import BoltzmannQPolicy, EpsGreedyQPolicy, LinearAnnealedPolicy\n",
    "from rl.memory import SequentialMemory\n",
    "from rl.core import Processor\n",
    "from rl.random import OrnsteinUhlenbeckProcess\n",
    "from rl.callbacks import FileLogger, ModelIntervalCheckpoint, TrainIntervalLogger\n",
    "\n",
    "from sklearn import preprocessing\n",
    "import warnings\n",
    "warnings.filterwarnings('ignore')\n",
    "\n",
    "import json\n",
    "import numpy as np"
   ]
  },
  {
   "cell_type": "code",
   "execution_count": 6,
   "metadata": {},
   "outputs": [],
   "source": [
    "class EnvProcessor(Processor):\n",
    "    def process_observation(self, observation):\n",
    "        assert observation.ndim == 2  # (height, width, channel)\n",
    "        return observation#self.process_obs_1(observation)\n",
    "    \n",
    "    def process_obs_1(self, observation):\n",
    "        prices = []\n",
    "        diff = []\n",
    "        for o in observation:\n",
    "            prices.append(o[0])\n",
    "            diff.append(o[1])\n",
    "        prices = preprocessing.normalize([prices], norm='l2', axis=1, copy=True, return_norm=False)[0]\n",
    "        diff = preprocessing.normalize([diff], norm='l2', axis=1, copy=True, return_norm=False)[0]\n",
    "        new_obs = np.column_stack((prices, diff))\n",
    "        return new_obs\n",
    "    \n",
    "    def process_state_batch(self, batch):\n",
    "#         print(batch)\n",
    "        return batch\n",
    "\n",
    "    def process_reward(self, reward):\n",
    "        return reward\n",
    "\n",
    "class DDPGEnvProcessor(EnvProcessor):\n",
    "    def __init__(self, train_policy, test_policy):\n",
    "        EnvProcessor.__init__(self)\n",
    "        self.nb_act_count = [0,0]\n",
    "        self.count = 0\n",
    "        self.train_policy = train_policy\n",
    "        self.test_policy = test_policy\n",
    "        \n",
    "    def process_action(self,actions):\n",
    "        if self.is_train:\n",
    "            choice = self.train_policy.select_action(q_values=actions)\n",
    "        else:\n",
    "            choice = self.test_policy.select_action(q_values=actions)\n",
    "        self.nb_act_count[choice] +=1\n",
    "        self.count += 1\n",
    "        if self.count % 1949 == 0:\n",
    "            print(self.nb_act_count)\n",
    "        if self.count % 400 == 0:\n",
    "            print(actions)\n",
    "            \n",
    "        return choice\n",
    "    def train_mode(self, is_train=True):\n",
    "        self.is_train = is_train"
   ]
  },
  {
   "cell_type": "code",
   "execution_count": 9,
   "metadata": {},
   "outputs": [],
   "source": [
    "def env_creator():\n",
    "    return gym.make('forex-v0', frame_bound=(50, 5000), window_size=10)\n",
    "\n",
    "env = env_creator()\n",
    "nb_actions = env.action_space.n\n",
    "\n",
    "def critic_actor():\n",
    "    env_shape = (10,2)\n",
    "    observation_input = Input(shape=(1,) + env_shape, name='observation_input')\n",
    "    obs = Permute((2, 3, 1), input_shape=(1,) + env_shape)(observation_input)\n",
    "    obs = Conv2D(filters=64, kernel_size=(2,2), activation='relu', padding='same')(obs)\n",
    "    obs = BatchNormalization()(obs)\n",
    "    obs = Conv2D(filters=64, kernel_size=(2,2), activation='relu', padding='same')(obs)\n",
    "    obs = BatchNormalization()(obs)\n",
    "    obs = Flatten()(obs)\n",
    "\n",
    "    obs_1 = Dense(256, activation='relu')(obs)\n",
    "    obs_1 = Dropout(0.2)(obs_1)\n",
    "    obs_1 = Dense(64, activation='relu')(obs_1)\n",
    "    obs_out = Dense(nb_actions, activation='softmax')(obs_1)\n",
    "    actor = Model(inputs=[observation_input], outputs=obs_out)\n",
    "    # print(actor.summary())\n",
    "\n",
    "    obs_2 = Permute((2, 3, 1), input_shape=(1,) + env_shape)(observation_input)\n",
    "    obs_2 = Conv2D(filters=64, kernel_size=(2,2), activation='relu', padding='same')(obs_2)\n",
    "    obs_2 = BatchNormalization()(obs_2)\n",
    "    obs_2 = Conv2D(filters=64, kernel_size=(2,2), activation='relu', padding='same')(obs_2)\n",
    "    obs_2 = BatchNormalization()(obs_2)\n",
    "    obs_2 = Flatten()(obs_2)\n",
    "\n",
    "    action_input = Input(shape=(nb_actions,), name='action_input')\n",
    "    a1 = Dense(64, activation='linear')(action_input)\n",
    "\n",
    "    x = Concatenate()([a1, obs])\n",
    "    x = Dense(256, activation='relu')(x)\n",
    "    x = Dropout(0.2)(x)\n",
    "    x = Dense(1)(x)\n",
    "    x = Activation('linear')(x)\n",
    "    critic = Model(inputs=[action_input, observation_input], outputs=x)\n",
    "    # print(critic.summary())\n",
    "    return actor, critic, action_input\n",
    "\n",
    "def agent_creator():\n",
    "    train_policy = LinearAnnealedPolicy(EpsGreedyQPolicy(), attr='eps', value_max=1.0, value_min=0.08, value_test=0.05, nb_steps=10000)\n",
    "    test_policy = LinearAnnealedPolicy(EpsGreedyQPolicy(), attr='eps', value_max=0.00, value_min=0.00, value_test=0.00, nb_steps=10000)\n",
    "    processor = DDPGEnvProcessor(train_policy,test_policy)\n",
    "    processor.train_mode(True)\n",
    "    memory = SequentialMemory(limit=128, window_length=1)\n",
    "    actor, critic, action_input = critic_actor()\n",
    "    random_process = OrnsteinUhlenbeckProcess(size=nb_actions, theta=0.0, mu=0.0, sigma=0.0)\n",
    "    agent = DDPGAgent(nb_actions=nb_actions, actor=actor, critic=critic, critic_action_input=action_input,\n",
    "                      memory=memory, nb_steps_warmup_critic=100, nb_steps_warmup_actor=100,\n",
    "                      random_process=random_process,processor=processor, gamma=1.0, \n",
    "                      batch_size=32, train_interval=16)\n",
    "    agent.compile((Adam(lr=0.05),Adam(lr=0.05)), metrics=['mae'])\n",
    "    train_policy._set_agent(agent)\n",
    "    test_policy._set_agent(agent)\n",
    "    return agent"
   ]
  },
  {
   "cell_type": "code",
   "execution_count": 10,
   "metadata": {},
   "outputs": [
    {
     "name": "stdout",
     "output_type": "stream",
     "text": [
      "['loss', 'mean_absolute_error', 'mean_q']\n",
      "starting train 1\n",
      "------------------ new episode begin, environment reset -----------------------------\n",
      "Interval 1.0 (0 steps performed)\n",
      " 83/489 [====>.........................] - ETA: 3s - reward: 0.6229 - cumulative_reward: 45.5711WARNING:tensorflow:From /Users/raymond.djajalaksana/anaconda3/lib/python3.7/site-packages/tensorflow/python/ops/math_ops.py:3066: to_int32 (from tensorflow.python.ops.math_ops) is deprecated and will be removed in a future version.\n",
      "Instructions for updating:\n",
      "Use tf.cast instead.\n",
      "385/489 [======================>.......] - ETA: 1s - reward: -0.3068 - cumulative_reward: 58.2816[0. 1.]\n",
      "490/489 [==============================] - 5s 11ms/step - reward: -0.5153 - cumulative_reward: 5.7380\n",
      "295/489 [=================>............] - ETA: 4s - reward: -1.7065 - cumulative_reward: 212.2410[0. 1.]\n",
      "490/489 [==============================] - 7s 15ms/step - reward: -0.7912 - cumulative_reward: 47.8732\n",
      "206/489 [===========>..................] - ETA: 10s - reward: -2.0042 - cumulative_reward: 139.0787[0. 1.]\n",
      "490/489 [==============================] - 9s 18ms/step - reward: -0.9147 - cumulative_reward: -45.2422\n",
      "124/489 [======>.......................] - ETA: 26s - reward: -4.0567 - cumulative_reward: 67.0265 [0. 1.]\n",
      "478/489 [============================>.] - ETA: 0s - reward: -1.0816 - cumulative_reward: -25.5495[902, 1047]\n",
      "490/489 [==============================] - 10s 21ms/step - reward: -1.0437 - cumulative_reward: -29.4586\n",
      " 33/489 [=>............................] - ETA: 2:17 - reward: -17.0639 - cumulative_reward: 1828.8568[0. 1.]\n",
      "425/489 [=========================>....] - ETA: 1s - reward: -1.0523 - cumulative_reward: -100.7629[0. 1.]\n",
      "489/489 [============================>.] - ETA: 0s - reward: -0.7106 - cumulative_reward: -92.9901\n",
      "train 1 completed. total_reward: -5.199999999972015 total_profit: 0.8108500975185708\n",
      "min reward: -203.40000000000026, max reward: 63.40000000000012, mean_reward: -0.002123315639024914\n",
      "\n",
      "['loss', 'mean_absolute_error', 'mean_q']\n",
      "starting train 2\n",
      "------------------ new episode begin, environment reset -----------------------------\n",
      "Interval 1.0 (0 steps performed)\n",
      "342/489 [===================>..........] - ETA: 0s - reward: -0.4594 - cumulative_reward: -10.4570[0. 1.]\n",
      "490/489 [==============================] - 1s 3ms/step - reward: -0.1331 - cumulative_reward: -40.4557\n",
      "245/489 [==============>...............] - ETA: 2s - reward: -35.3092 - cumulative_reward: 21.2869[0. 1.]\n",
      "490/489 [==============================] - 3s 6ms/step - reward: -17.3460 - cumulative_reward: -14.8129\n",
      "162/489 [========>.....................] - ETA: 6s - reward: -53.2821 - cumulative_reward: -149.6999[0. 1.]\n",
      "461/489 [===========================>..] - ETA: 0s - reward: -18.8067 - cumulative_reward: -121.9479[1797, 2101]\n",
      "490/489 [==============================] - 5s 10ms/step - reward: -17.8057 - cumulative_reward: -125.2481\n",
      " 67/489 [===>..........................] - ETA: 32s - reward: -131.0521 - cumulative_reward: 318.3574[0. 1.]\n",
      "468/489 [===========================>..] - ETA: 0s - reward: -17.9966 - cumulative_reward: -102.5238[0. 1.]\n",
      "490/489 [==============================] - 7s 14ms/step - reward: -17.1900 - cumulative_reward: -94.9228\n",
      "388/489 [======================>.......] - ETA: 2s - reward: -38.4528 - cumulative_reward: -239.6112[0. 1.]\n",
      "473/489 [============================>.] - ETA: 0s - reward: -31.6926 - cumulative_reward: -176.8317\n",
      "train 2 completed. total_reward: 102.69999999997785 total_profit: 0.8221337232978604\n",
      "min reward: -59.39999999999834, max reward: 168.70000000000164, mean_reward: 0.0419354838709587\n",
      "\n",
      "['loss', 'mean_absolute_error', 'mean_q']\n",
      "starting train 3\n",
      "------------------ new episode begin, environment reset -----------------------------\n",
      "Interval 1.0 (0 steps performed)\n",
      "289/489 [================>.............] - ETA: 0s - reward: 0.8138 - cumulative_reward: 120.0246[0. 1.]\n",
      "490/489 [==============================] - 1s 3ms/step - reward: 0.3251 - cumulative_reward: 138.3443\n",
      "199/489 [===========>..................] - ETA: 3s - reward: -0.0371 - cumulative_reward: 107.5907[0. 1.]\n",
      "455/489 [==========================>...] - ETA: 0s - reward: 0.1085 - cumulative_reward: 60.9347[2630, 3217]\n",
      "490/489 [==============================] - 4s 8ms/step - reward: 0.0037 - cumulative_reward: 55.4265\n",
      "109/489 [=====>........................] - ETA: 14s - reward: 2.4607 - cumulative_reward: 391.4371[0. 1.]\n",
      "490/489 [==============================] - 6s 11ms/step - reward: 0.7051 - cumulative_reward: 315.3589\n",
      " 24/489 [>.............................] - ETA: 1:48 - reward: 16.0285 - cumulative_reward: -232.3829[0. 1.]\n",
      "419/489 [========================>.....] - ETA: 1s - reward: 1.9071 - cumulative_reward: 501.3269  ETA: 13s - reward: 3.1404 - cumulat[0. 1.]\n",
      "490/489 [==============================] - 7s 15ms/step - reward: 1.4101 - cumulative_reward: 537.3826\n",
      "329/489 [===================>..........] - ETA: 4s - reward: 2.4054 - cumulative_reward: 503.3928[0. 1.]\n",
      "489/489 [============================>.] - ETA: 0s - reward: 2.0608 - cumulative_reward: 634.7967\n",
      "train 3 completed. total_reward: 1009.3999999999952 total_profit: 0.8540532733263186\n",
      "min reward: -73.40000000000124, max reward: 157.79999999999905, mean_reward: 0.4121682319313986\n",
      "\n",
      "['loss', 'mean_absolute_error', 'mean_q']\n",
      "starting train 4\n",
      "------------------ new episode begin, environment reset -----------------------------\n",
      "Interval 1.0 (0 steps performed)\n",
      "241/489 [=============>................] - ETA: 0s - reward: 0.1129 - cumulative_reward: -56.7008 [0. 1.]\n",
      "433/489 [=========================>....] - ETA: 0s - reward: -0.0522 - cumulative_reward: -45.0545[3533, 4263]\n",
      "490/489 [==============================] - 2s 4ms/step - reward: 0.0243 - cumulative_reward: -38.2571\n",
      "151/489 [========>.....................] - ETA: 6s - reward: 0.0112 - cumulative_reward: -237.4737 [0. 1.]\n",
      "490/489 [==============================] - 4s 8ms/step - reward: -0.0716 - cumulative_reward: -54.0772\n",
      " 67/489 [===>..........................] - ETA: 25s - reward: -0.5668 - cumulative_reward: -198.5792[0. 1.]\n",
      "465/489 [===========================>..] - ETA: 0s - reward: 0.3745 - cumulative_reward: 30.6411[0. 1.]\n",
      "490/489 [==============================] - 5s 11ms/step - reward: 0.2996 - cumulative_reward: 36.7789\n",
      "371/489 [=====================>........] - ETA: 2s - reward: 0.9927 - cumulative_reward: 133.9778[0. 1.]\n",
      "490/489 [==============================] - 7s 14ms/step - reward: 0.9751 - cumulative_reward: 205.8201\n",
      "281/489 [================>.............] - ETA: 5s - reward: 1.7399 - cumulative_reward: 2.4873  [0. 1.]\n",
      "425/489 [=========================>....] - ETA: 1s - reward: 1.3774 - cumulative_reward: 189.7488[4393, 5352]\n",
      "489/489 [============================>.] - ETA: 0s - reward: 1.1748 - cumulative_reward: 241.3339\n",
      "train 4 completed. total_reward: 575.3999999999764 total_profit: 0.8339652287338613\n",
      "min reward: -63.40000000000234, max reward: 154.50000000000185, mean_reward: 0.23495304205797324\n",
      "\n"
     ]
    }
   ],
   "source": [
    "from evaluator import Evaluator\n",
    "\n",
    "e = Evaluator(agent_creator, env_creator, name=\"ddpg\")\n",
    "e.train(repeat=5)"
   ]
  },
  {
   "cell_type": "code",
   "execution_count": 11,
   "metadata": {
    "scrolled": true
   },
   "outputs": [
    {
     "data": {
      "image/png": "[encoded data removed]",
      "text/plain": [
       "<Figure size 432x288 with 1 Axes>"
      ]
     },
     "metadata": {},
     "output_type": "display_data"
    }
   ],
   "source": [
    "e.process_train_result()"
   ]
  },
  {
   "cell_type": "code",
   "execution_count": 19,
   "metadata": {},
   "outputs": [
    {
     "name": "stdout",
     "output_type": "stream",
     "text": [
      "Testing for 1 episodes ...\n",
      "[0. 1.]\n",
      "[0. 1.]\n",
      "[0. 1.]\n",
      "Episode 1: reward: -147.100, steps: 999\n"
     ]
    },
    {
     "data": {
      "text/plain": [
       "<keras.callbacks.History at 0x1a38b33710>"
      ]
     },
     "execution_count": 19,
     "metadata": {},
     "output_type": "execute_result"
    }
   ],
   "source": [
    "e.agent.test(gym.make('forex-v0', frame_bound=(5000, 6000), window_size=10), visualize=False)"
   ]
  },
  {
   "cell_type": "code",
   "execution_count": null,
   "metadata": {},
   "outputs": [],
   "source": []
  }
 ],
 "metadata": {
  "kernelspec": {
   "display_name": "Python 3",
   "language": "python",
   "name": "python3"
  },
  "language_info": {
   "codemirror_mode": {
    "name": "ipython",
    "version": 3
   },
   "file_extension": ".py",
   "mimetype": "text/x-python",
   "name": "python",
   "nbconvert_exporter": "python",
   "pygments_lexer": "ipython3",
   "version": "3.7.3"
  }
 },
 "nbformat": 4,
 "nbformat_minor": 4
}
